{
 "cells": [
  {
   "cell_type": "code",
   "execution_count": 1,
   "metadata": {},
   "outputs": [],
   "source": [
    "import pandas as pd"
   ]
  },
  {
   "cell_type": "code",
   "execution_count": 2,
   "metadata": {},
   "outputs": [],
   "source": [
    "# import matplotlib.pyplot as plt\n",
    "import gensim\n",
    "import numpy as np\n",
    "import spacy\n",
    "\n",
    "import os, re, operator, warnings\n",
    "\n",
    "nlp = spacy.load(\"en\")\n",
    "\n",
    "import preprocessor as p\n",
    "p.set_options(p.OPT.URL, p.OPT.EMOJI,p.OPT.MENTION,p.OPT.RESERVED,p.OPT.SMILEY,p.OPT.NUMBER) # Setting paramenter to only remove the mentioned from the tweet\n",
    "from unicodedata import normalize\n",
    "import re\n",
    "from nltk.tokenize import TweetTokenizer\n",
    "import nltk\n",
    "# nltk.download('stopwords')\n",
    "my_stopwords = nltk.corpus.stopwords.words('english')\n",
    "word_rooter = nltk.stem.snowball.PorterStemmer(ignore_stopwords=False).stem\n",
    "my_punctuation = '!\"$%&\\'()*+,-./:;<=>?[\\\\]^_`{|}~•@'\n",
    "\n",
    "\n",
    "def words_tokenizer(data):\n",
    "    tknzr = TweetTokenizer()\n",
    "    words = tknzr.tokenize(data)\n",
    "    return words\n",
    "\n",
    "def preprocessing_pipeline(tweet,bigrams=True):\n",
    "    tweet = p.clean(tweet) # Python tweet preprocessor to remove URL, Mention, Hashtag, Reserved Words, Emoji, Smiley\n",
    "    tweet = tweet.lstrip(\"b'\").rstrip(\"''\") # Removing 'b' character and the single quotes from the tweet\n",
    "    tweet = re.sub(r'\\\\\\S+', '', tweet) # Replace all character starting with '\\' till space\n",
    "    tweet = re.sub(r'([^\\w\\s])|_+', ' ', tweet) # Removing punctuations\n",
    "#     tweet = re.sub('['+my_punctuation + ']+', '', tweet) # strip punctuation\n",
    "    tweet = re.sub(r'(\\s\\S{1,2}$)|(\\s\\S{1,2}\\s$)','',tweet) # Removing the residual words at the end of the sentence with at most 2 characters\n",
    "    tweet = re.sub(r'^\\s','',tweet) # Removing whitespace from the start of the tweet\n",
    "    tweet = re.sub(r'\\s$','',tweet) # Removing whitespace from the end of the tweet\n",
    "    tweet = re.sub(r'\\s\\s+',' ',tweet) # Removing extra space throughout\n",
    "    tweet = tweet.lower() # Lower-casing the text\n",
    "    tweet_token_list = [word for word in tweet.split(' ')\n",
    "                            if word not in my_stopwords] # remove stopwords\n",
    "\n",
    "#     tweet_token_list = [word_rooter(word) if '#' not in word else word\n",
    "#                         for word in tweet_token_list] # apply word rooter\n",
    "#     if bigrams:\n",
    "#         tweet_token_list = tweet_token_list+[tweet_token_list[i]+'_'+tweet_token_list[i+1]\n",
    "#                                             for i in range(len(tweet_token_list)-1)]\n",
    "    tweet = ' '.join(tweet_token_list)\n",
    "    return tweet\n",
    "\n",
    "def spacy_prepro(doc):\n",
    "    # we add some words to the stop word list\n",
    "    article = []\n",
    "    for w in doc:\n",
    "        # if it's not a stop word or punctuation mark, add it to our article!\n",
    "        if w.text != '\\n' and not w.is_stop and not w.is_punct and not w.like_num and w.text!=' ' and w.text not in article:\n",
    "            # we add the lematized version of the word\n",
    "            article.append(w.lemma_)\n",
    "    return article\n",
    "\n"
   ]
  },
  {
   "cell_type": "code",
   "execution_count": 3,
   "metadata": {},
   "outputs": [],
   "source": [
    "filepath = 'LIAR-PLUS/dataset/train2.tsv'\n",
    "filepath_test = 'LIAR-PLUS/dataset/test2.tsv'\n",
    "filepath_val = 'LIAR-PLUS/dataset/val2.tsv'"
   ]
  },
  {
   "cell_type": "code",
   "execution_count": 4,
   "metadata": {},
   "outputs": [],
   "source": [
    "df = pd.read_csv(filepath, usecols=[2,3,9,10,11,12,13,15], names=['label', 'statement','barely_true_count','false_count','half_true_count','mostly_true_count','pof_count','justification'], header=None, delimiter='\\t')\n",
    "df_test = pd.read_csv(filepath_test, usecols=[2,3,9,10,11,12,13,15], names=['label', 'statement','barely_true_count','false_count','half_true_count','mostly_true_count','pof_count','justification'], header=None, delimiter='\\t')\n",
    "df_val = pd.read_csv(filepath_val, usecols=[2,3,9,10,11,12,13,15], names=['label', 'statement','barely_true_count','false_count','half_true_count','mostly_true_count','pof_count','justification'], header=None, delimiter='\\t')"
   ]
  },
  {
   "cell_type": "code",
   "execution_count": 5,
   "metadata": {},
   "outputs": [],
   "source": [
    "true_labels = ['half-true', 'mostly true', 'true']\n",
    "false_labels = ['pants on fire', 'false', 'mostly false']\n",
    "\n",
    "train_labels_multi = df['label']\n",
    "train_labels_binary = []\n",
    "for i in range(len(train_labels_multi)):\n",
    "    if train_labels_multi[i] in true_labels:\n",
    "        train_labels_binary.append('true')\n",
    "    else:\n",
    "        train_labels_binary.append('false')\n",
    "        \n",
    "test_labels_multi = df_test['label']\n",
    "test_labels_binary = []\n",
    "for i in range(len(test_labels_multi)):\n",
    "    if test_labels_multi[i] in true_labels:\n",
    "        test_labels_binary.append('true')\n",
    "    else:\n",
    "        test_labels_binary.append('false')\n",
    "\n",
    "val_labels_multi = df_val['label']\n",
    "val_labels_binary = []\n",
    "for i in range(len(val_labels_multi)):\n",
    "    if val_labels_multi[i] in true_labels:\n",
    "        val_labels_binary.append('true')\n",
    "    else:\n",
    "        val_labels_binary.append('false')"
   ]
  },
  {
   "cell_type": "code",
   "execution_count": 6,
   "metadata": {},
   "outputs": [],
   "source": [
    "train_blabels_df = pd.DataFrame(train_labels_binary)\n",
    "train_blabels_df.columns = [\"label\"]\n",
    "\n",
    "test_blabels_df = pd.DataFrame(test_labels_binary)\n",
    "test_blabels_df.columns = [\"label\"]\n",
    "\n",
    "val_blabels_df = pd.DataFrame(val_labels_binary)\n",
    "val_blabels_df.columns = [\"label\"]"
   ]
  },
  {
   "cell_type": "markdown",
   "metadata": {},
   "source": [
    "# S Dataset"
   ]
  },
  {
   "cell_type": "code",
   "execution_count": 7,
   "metadata": {},
   "outputs": [],
   "source": [
    "from tqdm import tqdm"
   ]
  },
  {
   "cell_type": "code",
   "execution_count": 8,
   "metadata": {},
   "outputs": [
    {
     "name": "stderr",
     "output_type": "stream",
     "text": [
      "100%|██████████| 10240/10240 [01:25<00:00, 120.22it/s]\n"
     ]
    }
   ],
   "source": [
    "train_processed_S = []\n",
    "for i in tqdm(range(len(df['statement']))):\n",
    "    a = preprocessing_pipeline(df['statement'][i])\n",
    "    b = ' '.join(spacy_prepro(nlp(a)))\n",
    "    train_processed_S.append(b)"
   ]
  },
  {
   "cell_type": "code",
   "execution_count": 9,
   "metadata": {},
   "outputs": [
    {
     "name": "stderr",
     "output_type": "stream",
     "text": [
      "100%|██████████| 1267/1267 [00:09<00:00, 134.21it/s]\n"
     ]
    }
   ],
   "source": [
    "test_processed_S = []\n",
    "for i in tqdm(range(len(df_test['statement']))):\n",
    "    a = preprocessing_pipeline(df_test['statement'][i])\n",
    "    b = ' '.join(spacy_prepro(nlp(a)))\n",
    "    test_processed_S.append(b)"
   ]
  },
  {
   "cell_type": "code",
   "execution_count": 10,
   "metadata": {},
   "outputs": [
    {
     "name": "stderr",
     "output_type": "stream",
     "text": [
      "100%|██████████| 1284/1284 [00:09<00:00, 133.21it/s]\n"
     ]
    }
   ],
   "source": [
    "val_processed_S = []\n",
    "for i in tqdm(range(len(df_val['statement']))):\n",
    "    a = preprocessing_pipeline(df_val['statement'][i])\n",
    "    b = ' '.join(spacy_prepro(nlp(a)))\n",
    "    val_processed_S.append(b)"
   ]
  },
  {
   "cell_type": "markdown",
   "metadata": {},
   "source": [
    "# SVM"
   ]
  },
  {
   "cell_type": "markdown",
   "metadata": {},
   "source": [
    "## Binary Classification\n",
    "\n",
    "> Validation coming better on unigram, test better on TFIDF"
   ]
  },
  {
   "cell_type": "code",
   "execution_count": 11,
   "metadata": {},
   "outputs": [],
   "source": [
    "from sklearn.feature_extraction.text import CountVectorizer\n",
    "from sklearn.metrics import classification_report\n",
    "# vectorizer = CountVectorizer(analyzer = \"word\",tokenizer = None,preprocessor = None,min_df = 2, ngram_range=(1,2)) # ngram_range = unigram and bigrams\n",
    "vectorizer = CountVectorizer()"
   ]
  },
  {
   "cell_type": "code",
   "execution_count": 12,
   "metadata": {},
   "outputs": [],
   "source": [
    "from sklearn.feature_extraction.text import TfidfTransformer\n",
    "\n",
    "X_train_S = vectorizer.fit_transform(train_processed_S)\n",
    "# tf_transformer = TfidfTransformer(use_idf=True).fit(X_train_S) \n",
    "# X_train_S = tf_transformer.transform(X_train_S)\n",
    "\n",
    "X_test_S = vectorizer.transform(test_processed_S)\n",
    "# tf_transformer = TfidfTransformer(use_idf=True).fit(X_test_S) \n",
    "# X_test_S = tf_transformer.transform(X_test_S)\n",
    "\n",
    "X_val_S = vectorizer.transform(val_processed_S)\n",
    "# tf_transformer = TfidfTransformer(use_idf=True).fit(X_val_S) \n",
    "# X_val_S = tf_transformer.transform(X_val_S)"
   ]
  },
  {
   "cell_type": "code",
   "execution_count": 13,
   "metadata": {},
   "outputs": [
    {
     "data": {
      "text/plain": [
       "LinearSVC(C=1.0, class_weight=None, dual=True, fit_intercept=True,\n",
       "          intercept_scaling=1, loss='squared_hinge', max_iter=1000,\n",
       "          multi_class='ovr', penalty='l2', random_state=0, tol=1e-05,\n",
       "          verbose=0)"
      ]
     },
     "execution_count": 13,
     "metadata": {},
     "output_type": "execute_result"
    }
   ],
   "source": [
    "from sklearn.svm import LinearSVC\n",
    "from sklearn.model_selection import GridSearchCV\n",
    "model = LinearSVC(random_state=0, tol=1e-5)\n",
    "# parameters = {'kernel':('linear', 'rbf'), 'C':[1, 10]}\n",
    "# clf = GridSearchCV(model, parameters, cv=5)\n",
    "model.fit(X_train_S,train_blabels_df['label'])"
   ]
  },
  {
   "cell_type": "code",
   "execution_count": 14,
   "metadata": {},
   "outputs": [],
   "source": [
    "# test set\n",
    "predicted =model.predict(X_test_S)"
   ]
  },
  {
   "cell_type": "code",
   "execution_count": 15,
   "metadata": {},
   "outputs": [
    {
     "name": "stdout",
     "output_type": "stream",
     "text": [
      "0.5659037095501184\n"
     ]
    }
   ],
   "source": [
    "print(classification_report(test_blabels_df['label'], predicted))\n",
    "count=0\n",
    "for i in range(len(test_blabels_df['label'])):\n",
    "    if test_blabels_df['label'][i]==predicted[i]:\n",
    "        count+=1\n",
    "print(count/len(predicted))"
   ]
  },
  {
   "cell_type": "code",
   "execution_count": 16,
   "metadata": {},
   "outputs": [],
   "source": [
    "# validation set\n",
    "predicted_val_S =model.predict(X_val_S)"
   ]
  },
  {
   "cell_type": "code",
   "execution_count": 17,
   "metadata": {},
   "outputs": [
    {
     "name": "stdout",
     "output_type": "stream",
     "text": [
      "0.6160436137071651\n"
     ]
    }
   ],
   "source": [
    "print(classification_report(val_blabels_df['label'], predicted))\n",
    "count=0\n",
    "for i in range(len(val_blabels_df['label'])):\n",
    "    if val_blabels_df['label'][i]==predicted_val_S[i]:\n",
    "        count+=1\n",
    "print(count/len(predicted_val_S))"
   ]
  },
  {
   "cell_type": "markdown",
   "metadata": {},
   "source": [
    "## Multi-class Classification\n",
    "\n",
    "> Giving better results on unigram model"
   ]
  },
  {
   "cell_type": "code",
   "execution_count": 29,
   "metadata": {},
   "outputs": [],
   "source": [
    "X_train_S = vectorizer.fit_transform(train_processed_S)\n",
    "# tf_transformer = TfidfTransformer(use_idf=True).fit(X_train_S) \n",
    "# X_train_S = tf_transformer.transform(X_train_S)\n",
    "\n",
    "X_test_S = vectorizer.transform(test_processed_S)\n",
    "# tf_transformer = TfidfTransformer(use_idf=True).fit(X_test_S) \n",
    "# X_test_S = tf_transformer.transform(X_test_S)\n",
    "\n",
    "X_val_S = vectorizer.transform(val_processed_S)\n",
    "# tf_transformer = TfidfTransformer(use_idf=True).fit(X_val_S) \n",
    "# X_val_S = tf_transformer.transform(X_val_S)"
   ]
  },
  {
   "cell_type": "code",
   "execution_count": 30,
   "metadata": {},
   "outputs": [
    {
     "data": {
      "text/plain": [
       "LinearSVC(C=1.0, class_weight=None, dual=True, fit_intercept=True,\n",
       "          intercept_scaling=1, loss='squared_hinge', max_iter=1000,\n",
       "          multi_class='ovr', penalty='l2', random_state=0, tol=1e-05,\n",
       "          verbose=0)"
      ]
     },
     "execution_count": 30,
     "metadata": {},
     "output_type": "execute_result"
    }
   ],
   "source": [
    "model = LinearSVC(random_state=0, tol=1e-5)\n",
    "model.fit(X_train_S,df['label'])"
   ]
  },
  {
   "cell_type": "code",
   "execution_count": 31,
   "metadata": {},
   "outputs": [
    {
     "name": "stdout",
     "output_type": "stream",
     "text": [
      "0.23046566692975531\n"
     ]
    }
   ],
   "source": [
    "# test set\n",
    "\n",
    "predicted =model.predict(X_test_S)\n",
    "print(classification_report(df_test['label'], predicted))\n",
    "count=0\n",
    "for i in range(len(df_test['label'])):\n",
    "    if df_test['label'][i]==predicted[i]:\n",
    "        count+=1\n",
    "print(count/len(predicted))"
   ]
  },
  {
   "cell_type": "code",
   "execution_count": 32,
   "metadata": {},
   "outputs": [
    {
     "name": "stdout",
     "output_type": "stream",
     "text": [
      "0.2398753894080997\n"
     ]
    }
   ],
   "source": [
    "# validation set\n",
    "\n",
    "predicted_val_S =model.predict(X_val_S)\n",
    "print(classification_report(df_val['label'], predicted))\n",
    "count=0\n",
    "for i in range(len(df_val['label'])):\n",
    "    if df_val['label'][i]==predicted_val_S[i]:\n",
    "        count+=1\n",
    "print(count/len(predicted_val_S))"
   ]
  },
  {
   "cell_type": "code",
   "execution_count": null,
   "metadata": {},
   "outputs": [],
   "source": [
    "# ### Combining train and validation\n",
    "\n",
    "# train_val_processed_S = train_processed_S + val_processed_S\n",
    "# a = list(df['label'])\n",
    "# b = list(df_val['label'])\n",
    "# c = np.array(a+b)\n",
    "\n",
    "# X_train_val_S = vectorizer.fit_transform(train_val_processed_S)\n",
    "# tf_transformer = TfidfTransformer(use_idf=True).fit(X_train_val_S) \n",
    "# X_train_val_S = tf_transformer.transform(X_train_val_S)\n",
    "\n",
    "# X_test_S = vectorizer.transform(test_processed_S)\n",
    "# tf_transformer = TfidfTransformer(use_idf=True).fit(X_test_S) \n",
    "# X_test_S = tf_transformer.transform(X_test_S)\n",
    "\n",
    "# model = LinearSVC(random_state=0, tol=1e-5)\n",
    "# model.fit(X_train_val_S,c)\n",
    "\n",
    "# count=0\n",
    "# for i in range(len(df_test['label'])):\n",
    "#     if df_test['label'][i]==predicted[i]:\n",
    "#         count+=1\n",
    "# print(count/len(predicted))"
   ]
  },
  {
   "cell_type": "markdown",
   "metadata": {},
   "source": [
    "## Logistic Regression "
   ]
  },
  {
   "cell_type": "code",
   "execution_count": 26,
   "metadata": {},
   "outputs": [],
   "source": [
    "## Binary Classification"
   ]
  },
  {
   "cell_type": "code",
   "execution_count": 27,
   "metadata": {},
   "outputs": [
    {
     "name": "stderr",
     "output_type": "stream",
     "text": [
      "/home/shreyash15097/.local/lib/python3.6/site-packages/sklearn/linear_model/logistic.py:947: ConvergenceWarning: lbfgs failed to converge. Increase the number of iterations.\n",
      "  \"of iterations.\", ConvergenceWarning)\n"
     ]
    }
   ],
   "source": [
    "from sklearn.linear_model import LogisticRegression\n",
    "clf = LogisticRegression(random_state=0, solver='lbfgs',multi_class='ovr').fit(X_train_S, train_blabels_df['label'])"
   ]
  },
  {
   "cell_type": "code",
   "execution_count": 33,
   "metadata": {},
   "outputs": [
    {
     "name": "stdout",
     "output_type": "stream",
     "text": [
      "0.5911602209944752\n"
     ]
    }
   ],
   "source": [
    "predicted =clf.predict(X_test_S)\n",
    "print(classification_report(test_blabels_df['label'], predicted))\n",
    "count=0\n",
    "for i in range(len(test_blabels_df['label'])):\n",
    "    if test_blabels_df['label'][i]==predicted[i]:\n",
    "        count+=1\n",
    "print(count/len(predicted))"
   ]
  },
  {
   "cell_type": "code",
   "execution_count": 34,
   "metadata": {},
   "outputs": [
    {
     "name": "stdout",
     "output_type": "stream",
     "text": [
      "0.6347352024922118\n"
     ]
    }
   ],
   "source": [
    "predicted_val_S =clf.predict(X_val_S)\n",
    "print(classification_report(val_blabels_df['label'], predicted))\n",
    "count=0\n",
    "for i in range(len(val_blabels_df['label'])):\n",
    "    if val_blabels_df['label'][i]==predicted_val_S[i]:\n",
    "        count+=1\n",
    "print(count/len(predicted_val_S))"
   ]
  },
  {
   "cell_type": "code",
   "execution_count": null,
   "metadata": {},
   "outputs": [],
   "source": []
  },
  {
   "cell_type": "markdown",
   "metadata": {},
   "source": [
    "## Multi Classification"
   ]
  },
  {
   "cell_type": "code",
   "execution_count": 35,
   "metadata": {},
   "outputs": [
    {
     "name": "stderr",
     "output_type": "stream",
     "text": [
      "/home/shreyash15097/.local/lib/python3.6/site-packages/sklearn/linear_model/logistic.py:947: ConvergenceWarning: lbfgs failed to converge. Increase the number of iterations.\n",
      "  \"of iterations.\", ConvergenceWarning)\n"
     ]
    }
   ],
   "source": [
    "clf = LogisticRegression(random_state=0, solver='lbfgs',multi_class='multinomial').fit(X_train_S, df['label'])"
   ]
  },
  {
   "cell_type": "code",
   "execution_count": 36,
   "metadata": {},
   "outputs": [
    {
     "name": "stdout",
     "output_type": "stream",
     "text": [
      "0.23362273086029992\n"
     ]
    }
   ],
   "source": [
    "predicted =clf.predict(X_test_S)\n",
    "print(classification_report(df_test['label'], predicted))\n",
    "count=0\n",
    "for i in range(len(df_test['label'])):\n",
    "    if df_test['label'][i]==predicted[i]:\n",
    "        count+=1\n",
    "print(count/len(predicted))"
   ]
  },
  {
   "cell_type": "code",
   "execution_count": 37,
   "metadata": {},
   "outputs": [
    {
     "name": "stdout",
     "output_type": "stream",
     "text": [
      "0.2383177570093458\n"
     ]
    }
   ],
   "source": [
    "predicted_val_S =clf.predict(X_val_S)\n",
    "print(classification_report(df_val['label'], predicted))\n",
    "count=0\n",
    "for i in range(len(df_val['label'])):\n",
    "    if df_val['label'][i]==predicted_val_S[i]:\n",
    "        count+=1\n",
    "print(count/len(predicted_val_S))"
   ]
  },
  {
   "cell_type": "markdown",
   "metadata": {},
   "source": [
    "# SJ dataset"
   ]
  },
  {
   "cell_type": "code",
   "execution_count": 38,
   "metadata": {},
   "outputs": [
    {
     "name": "stderr",
     "output_type": "stream",
     "text": [
      "100%|██████████| 10240/10240 [02:03<00:00, 82.95it/s]\n"
     ]
    }
   ],
   "source": [
    "train_processed_J = []\n",
    "for i in tqdm(range(len(df['justification']))):\n",
    "    try:\n",
    "        a = preprocessing_pipeline(df['justification'][i])\n",
    "        b = ' '.join(spacy_prepro(nlp(a)))\n",
    "        train_processed_J.append(b)\n",
    "    except:\n",
    "        train_processed_J.append(\"\")"
   ]
  },
  {
   "cell_type": "code",
   "execution_count": 39,
   "metadata": {},
   "outputs": [
    {
     "name": "stderr",
     "output_type": "stream",
     "text": [
      "100%|██████████| 1267/1267 [00:15<00:00, 82.09it/s]\n"
     ]
    }
   ],
   "source": [
    "test_processed_J = []\n",
    "for i in tqdm(range(len(df_test['justification']))):\n",
    "    try:\n",
    "        a = preprocessing_pipeline(df_test['justification'][i])\n",
    "        b = ' '.join(spacy_prepro(nlp(a)))\n",
    "        test_processed_J.append(b)\n",
    "    except:\n",
    "        test_processed_J.append(\"\")"
   ]
  },
  {
   "cell_type": "code",
   "execution_count": 40,
   "metadata": {},
   "outputs": [
    {
     "name": "stderr",
     "output_type": "stream",
     "text": [
      "100%|██████████| 1284/1284 [00:15<00:00, 84.76it/s]\n"
     ]
    }
   ],
   "source": [
    "val_processed_J = []\n",
    "for i in tqdm(range(len(df_val['justification']))):\n",
    "    try:\n",
    "        a = preprocessing_pipeline(df_val['justification'][i])\n",
    "        b = ' '.join(spacy_prepro(nlp(a)))\n",
    "        val_processed_J.append(b)\n",
    "    except:\n",
    "        val_processed_J.append(\"\")"
   ]
  },
  {
   "cell_type": "code",
   "execution_count": 41,
   "metadata": {},
   "outputs": [],
   "source": [
    "train_processed_SJ = []\n",
    "for i in range(len(train_processed_S)):\n",
    "    temp = train_processed_S[i]+\" \"+train_processed_J[i]\n",
    "    train_processed_SJ.append(temp)"
   ]
  },
  {
   "cell_type": "code",
   "execution_count": 42,
   "metadata": {},
   "outputs": [],
   "source": [
    "test_processed_SJ = []\n",
    "for i in range(len(test_processed_S)):\n",
    "    temp = test_processed_S[i]+\" \"+test_processed_J[i]\n",
    "    test_processed_SJ.append(temp)"
   ]
  },
  {
   "cell_type": "code",
   "execution_count": 43,
   "metadata": {},
   "outputs": [],
   "source": [
    "val_processed_SJ = []\n",
    "for i in range(len(val_processed_S)):\n",
    "    temp = val_processed_S[i]+\" \"+val_processed_J[i]\n",
    "    val_processed_SJ.append(temp)"
   ]
  },
  {
   "cell_type": "markdown",
   "metadata": {},
   "source": [
    "## Binary Classification"
   ]
  },
  {
   "cell_type": "markdown",
   "metadata": {},
   "source": [
    "SVM"
   ]
  },
  {
   "cell_type": "code",
   "execution_count": 44,
   "metadata": {},
   "outputs": [],
   "source": [
    "vectorizer = CountVectorizer(analyzer = \"word\",tokenizer = None,preprocessor = None,min_df = 2, ngram_range=(1,2)) # ngram_range = unigram and bigrams\n",
    "# vectorizer = CountVectorizer()\n",
    "\n",
    "X_train_SJ = vectorizer.fit_transform(train_processed_SJ)\n",
    "tf_transformer = TfidfTransformer(use_idf=True).fit(X_train_SJ) \n",
    "X_train_SJ = tf_transformer.transform(X_train_SJ)\n",
    "\n",
    "X_test_SJ = vectorizer.transform(test_processed_SJ)\n",
    "tf_transformer = TfidfTransformer(use_idf=True).fit(X_test_SJ) \n",
    "X_test_SJ = tf_transformer.transform(X_test_SJ)\n",
    "\n",
    "X_val_SJ = vectorizer.transform(val_processed_SJ)\n",
    "tf_transformer = TfidfTransformer(use_idf=True).fit(X_val_SJ) \n",
    "X_val_SJ = tf_transformer.transform(X_val_SJ)"
   ]
  },
  {
   "cell_type": "code",
   "execution_count": 45,
   "metadata": {},
   "outputs": [
    {
     "data": {
      "text/plain": [
       "LinearSVC(C=1.0, class_weight=None, dual=True, fit_intercept=True,\n",
       "          intercept_scaling=1, loss='squared_hinge', max_iter=1000,\n",
       "          multi_class='ovr', penalty='l2', random_state=0, tol=1e-05,\n",
       "          verbose=0)"
      ]
     },
     "execution_count": 45,
     "metadata": {},
     "output_type": "execute_result"
    }
   ],
   "source": [
    "model_LSVC = LinearSVC(random_state=0, tol=1e-5)\n",
    "model_LSVC.fit(X_train_SJ,train_blabels_df['label'])"
   ]
  },
  {
   "cell_type": "code",
   "execution_count": 46,
   "metadata": {},
   "outputs": [
    {
     "name": "stdout",
     "output_type": "stream",
     "text": [
      "0.5808997632202052\n"
     ]
    }
   ],
   "source": [
    "predicted =model_LSVC.predict(X_test_SJ)\n",
    "print(classification_report(test_blabels_df['label'], predicted))\n",
    "count=0\n",
    "for i in range(len(test_blabels_df['label'])):\n",
    "    if test_blabels_df['label'][i]==predicted[i]:\n",
    "        count+=1\n",
    "print(count/len(predicted))"
   ]
  },
  {
   "cell_type": "code",
   "execution_count": 47,
   "metadata": {},
   "outputs": [
    {
     "name": "stdout",
     "output_type": "stream",
     "text": [
      "0.6105919003115264\n"
     ]
    }
   ],
   "source": [
    "predicted =model_LSVC.predict(X_val_SJ)\n",
    "print(classification_report(val_blabels_df['label'], predicted))\n",
    "count=0\n",
    "for i in range(len(val_blabels_df['label'])):\n",
    "#     print(df_val['label'][i],predicted[i])\n",
    "    if val_blabels_df['label'][i]==predicted[i]:\n",
    "        count+=1\n",
    "print(count/len(predicted))"
   ]
  },
  {
   "cell_type": "markdown",
   "metadata": {},
   "source": [
    "Logistic Regression"
   ]
  },
  {
   "cell_type": "code",
   "execution_count": 48,
   "metadata": {},
   "outputs": [],
   "source": [
    "from sklearn.linear_model import LogisticRegression\n",
    "clf = LogisticRegression(random_state=0, solver='lbfgs',multi_class='ovr').fit(X_train_SJ, train_blabels_df['label'])\n",
    "# clf = LogisticRegression().fit(X,df['label'])"
   ]
  },
  {
   "cell_type": "code",
   "execution_count": 49,
   "metadata": {},
   "outputs": [
    {
     "name": "stdout",
     "output_type": "stream",
     "text": [
      "0.6235201262825573\n"
     ]
    }
   ],
   "source": [
    "predicted =clf.predict(X_test_SJ)\n",
    "print(classification_report(test_blabels_df['label'], predicted))\n",
    "count=0\n",
    "for i in range(len(test_blabels_df['label'])):\n",
    "    if test_blabels_df['label'][i]==predicted[i]:\n",
    "        count+=1\n",
    "print(count/len(predicted))"
   ]
  },
  {
   "cell_type": "code",
   "execution_count": 50,
   "metadata": {},
   "outputs": [
    {
     "name": "stdout",
     "output_type": "stream",
     "text": [
      "0.6651090342679128\n"
     ]
    }
   ],
   "source": [
    "predicted =clf.predict(X_val_SJ)\n",
    "print(classification_report(val_blabels_df['label'], predicted))\n",
    "count=0\n",
    "for i in range(len(val_blabels_df['label'])):\n",
    "    if val_blabels_df['label'][i]==predicted[i]:\n",
    "        count+=1\n",
    "print(count/len(predicted))"
   ]
  },
  {
   "cell_type": "markdown",
   "metadata": {},
   "source": [
    "## Multi Classification"
   ]
  },
  {
   "cell_type": "markdown",
   "metadata": {},
   "source": [
    "SVM"
   ]
  },
  {
   "cell_type": "code",
   "execution_count": 51,
   "metadata": {},
   "outputs": [],
   "source": [
    "vectorizer = CountVectorizer(analyzer = \"word\",tokenizer = None,preprocessor = None,min_df = 2, ngram_range=(1,2)) # ngram_range = unigram and bigrams\n",
    "# vectorizer = CountVectorizer()\n",
    "\n",
    "X_train_SJ = vectorizer.fit_transform(train_processed_SJ)\n",
    "tf_transformer = TfidfTransformer(use_idf=True).fit(X_train_SJ) \n",
    "X_train_SJ = tf_transformer.transform(X_train_SJ)\n",
    "\n",
    "X_test_SJ = vectorizer.transform(test_processed_SJ)\n",
    "tf_transformer = TfidfTransformer(use_idf=True).fit(X_test_SJ) \n",
    "X_test_SJ = tf_transformer.transform(X_test_SJ)\n",
    "\n",
    "X_val_SJ = vectorizer.transform(val_processed_SJ)\n",
    "tf_transformer = TfidfTransformer(use_idf=True).fit(X_val_SJ) \n",
    "X_val_SJ = tf_transformer.transform(X_val_SJ)"
   ]
  },
  {
   "cell_type": "code",
   "execution_count": 52,
   "metadata": {},
   "outputs": [
    {
     "data": {
      "text/plain": [
       "LinearSVC(C=1.0, class_weight=None, dual=True, fit_intercept=True,\n",
       "          intercept_scaling=1, loss='squared_hinge', max_iter=1000,\n",
       "          multi_class='ovr', penalty='l2', random_state=0, tol=1e-05,\n",
       "          verbose=0)"
      ]
     },
     "execution_count": 52,
     "metadata": {},
     "output_type": "execute_result"
    }
   ],
   "source": [
    "model_LSVC = LinearSVC(random_state=0, tol=1e-5)\n",
    "model_LSVC.fit(X_train_SJ,df['label'])"
   ]
  },
  {
   "cell_type": "code",
   "execution_count": 53,
   "metadata": {},
   "outputs": [
    {
     "name": "stdout",
     "output_type": "stream",
     "text": [
      "0.21783741120757696\n"
     ]
    }
   ],
   "source": [
    "predicted =model_LSVC.predict(X_test_SJ)\n",
    "print(classification_report(df_test['label'], predicted))\n",
    "count=0\n",
    "for i in range(len(df_test['label'])):\n",
    "    if df_test['label'][i]==predicted[i]:\n",
    "        count+=1\n",
    "print(count/len(predicted))"
   ]
  },
  {
   "cell_type": "code",
   "execution_count": 54,
   "metadata": {},
   "outputs": [
    {
     "name": "stdout",
     "output_type": "stream",
     "text": [
      "0.21339563862928349\n"
     ]
    }
   ],
   "source": [
    "predicted =model_LSVC.predict(X_val_SJ)\n",
    "print(classification_report(df_val['label'], predicted))\n",
    "count=0\n",
    "for i in range(len(df_val['label'])):\n",
    "#     print(df_val['label'][i],predicted[i])\n",
    "    if df_val['label'][i]==predicted[i]:\n",
    "        count+=1\n",
    "print(count/len(predicted))"
   ]
  },
  {
   "cell_type": "markdown",
   "metadata": {},
   "source": [
    "Logistic Regression"
   ]
  },
  {
   "cell_type": "code",
   "execution_count": 55,
   "metadata": {},
   "outputs": [
    {
     "name": "stderr",
     "output_type": "stream",
     "text": [
      "/home/shreyash15097/.local/lib/python3.6/site-packages/sklearn/linear_model/logistic.py:947: ConvergenceWarning: lbfgs failed to converge. Increase the number of iterations.\n",
      "  \"of iterations.\", ConvergenceWarning)\n"
     ]
    }
   ],
   "source": [
    "from sklearn.linear_model import LogisticRegression\n",
    "clf = LogisticRegression(random_state=0, solver='lbfgs',multi_class='multinomial').fit(X_train_SJ, df['label'])\n",
    "# clf = LogisticRegression().fit(X,df['label'])"
   ]
  },
  {
   "cell_type": "code",
   "execution_count": 56,
   "metadata": {},
   "outputs": [
    {
     "name": "stdout",
     "output_type": "stream",
     "text": [
      "0.23441199684293607\n"
     ]
    }
   ],
   "source": [
    "predicted =clf.predict(X_test_SJ)\n",
    "print(classification_report(df_test['label'], predicted))\n",
    "count=0\n",
    "for i in range(len(df_test['label'])):\n",
    "    if df_test['label'][i]==predicted[i]:\n",
    "        count+=1\n",
    "print(count/len(predicted))"
   ]
  },
  {
   "cell_type": "code",
   "execution_count": 57,
   "metadata": {},
   "outputs": [
    {
     "name": "stdout",
     "output_type": "stream",
     "text": [
      "0.24221183800623053\n"
     ]
    }
   ],
   "source": [
    "predicted =clf.predict(X_val_SJ)\n",
    "print(classification_report(df_val['label'], predicted))\n",
    "count=0\n",
    "for i in range(len(df_val['label'])):\n",
    "    if df_val['label'][i]==predicted[i]:\n",
    "        count+=1\n",
    "print(count/len(predicted))"
   ]
  },
  {
   "cell_type": "markdown",
   "metadata": {},
   "source": [
    "# S+M and S+MJ\n",
    "\n",
    "> Only the vectorizer valued is changed for M and MJ dataset, rest remains same"
   ]
  },
  {
   "cell_type": "markdown",
   "metadata": {},
   "source": [
    "## Sentiment\n",
    "\n",
    "> Senti Strength with binary positivity and negativity labels"
   ]
  },
  {
   "cell_type": "code",
   "execution_count": 58,
   "metadata": {},
   "outputs": [],
   "source": [
    "# from sentistrength import PySentiStr\n",
    "\n",
    "# senti = PySentiStr()"
   ]
  },
  {
   "cell_type": "code",
   "execution_count": 59,
   "metadata": {},
   "outputs": [],
   "source": [
    "# senti.setSentiStrengthPath('/home/shreyash15097/my/SentiStrength/SentiStrength.jar')\n",
    "# senti.setSentiStrengthLanguageFolderPath('/home/shreyash15097/my/SentiStrength/SentiStrengthData/')"
   ]
  },
  {
   "cell_type": "code",
   "execution_count": 60,
   "metadata": {},
   "outputs": [],
   "source": [
    "# train_senti = []\n",
    "# for i in tqdm(range(len(train_processed_S))):\n",
    "#     result = senti.getSentiment(train_processed_S[i], score='binary')\n",
    "#     train_senti.append(result)"
   ]
  },
  {
   "cell_type": "code",
   "execution_count": 61,
   "metadata": {},
   "outputs": [],
   "source": [
    "# test_senti = []\n",
    "# for i in tqdm(range(len(test_processed_S))):\n",
    "#     result = senti.getSentiment(test_processed_S[i], score='binary')\n",
    "#     test_senti.append(result)"
   ]
  },
  {
   "cell_type": "code",
   "execution_count": 62,
   "metadata": {
    "scrolled": true
   },
   "outputs": [],
   "source": [
    "# val_senti = []\n",
    "# for i in tqdm(range(len(df_val['statement']))):\n",
    "#     result = senti.getSentiment(df_val['statement'][i], score='binary')\n",
    "#     val_senti.append(result)"
   ]
  },
  {
   "cell_type": "code",
   "execution_count": 63,
   "metadata": {},
   "outputs": [],
   "source": [
    "import pickle\n",
    "\n",
    "senti_train = {}\n",
    "with open('train_senti.pkl','rb') as f:\n",
    "    senti_train = pickle.load(f)\n",
    "\n",
    "senti_test = {}\n",
    "with open('test_senti.pkl','rb') as f:\n",
    "    senti_test = pickle.load(f)\n",
    "\n",
    "senti_val = {}\n",
    "with open('val_senti.pkl','rb') as f:\n",
    "    senti_val = pickle.load(f)"
   ]
  },
  {
   "cell_type": "markdown",
   "metadata": {},
   "source": [
    "Converting to pandas dataframe"
   ]
  },
  {
   "cell_type": "code",
   "execution_count": 64,
   "metadata": {},
   "outputs": [],
   "source": [
    "pos_sent = []\n",
    "neg_sent = []\n",
    "for i in range(len(senti_train)):\n",
    "    ps = senti_train[i][0][0]\n",
    "    ns = senti_train[i][0][1]\n",
    "    pos_sent.append(ps)\n",
    "    neg_sent.append(abs(ns))\n",
    "senti_train_df = pd.DataFrame(pos_sent,columns =['pos_sent']) \n",
    "senti_train_df['neg_sent'] = neg_sent"
   ]
  },
  {
   "cell_type": "code",
   "execution_count": 65,
   "metadata": {},
   "outputs": [],
   "source": [
    "pos_sent = []\n",
    "neg_sent = []\n",
    "for i in range(len(senti_test)):\n",
    "    ps = senti_test[i][0][0]\n",
    "    ns = senti_test[i][0][1]\n",
    "    pos_sent.append(ps)\n",
    "    neg_sent.append(abs(ns))\n",
    "senti_test_df = pd.DataFrame(pos_sent,columns =['pos_sent']) \n",
    "senti_test_df['neg_sent'] = neg_sent"
   ]
  },
  {
   "cell_type": "code",
   "execution_count": 66,
   "metadata": {},
   "outputs": [],
   "source": [
    "pos_sent = []\n",
    "neg_sent = []\n",
    "for i in range(len(senti_val)):\n",
    "    ps = senti_val[i][0][0]\n",
    "    ns = senti_val[i][0][1]\n",
    "    pos_sent.append(ps)\n",
    "    neg_sent.append(abs(ns))\n",
    "senti_val_df = pd.DataFrame(pos_sent,columns =['pos_sent']) \n",
    "senti_val_df['neg_sent'] = neg_sent"
   ]
  },
  {
   "cell_type": "markdown",
   "metadata": {},
   "source": [
    "## Emotion Lexicon"
   ]
  },
  {
   "cell_type": "code",
   "execution_count": 67,
   "metadata": {},
   "outputs": [],
   "source": [
    "df_lexicon = pd.read_csv('/home/shreyash15097/fnd/NRC-Emotion-Lexicon-Wordlevel-v0.92.txt', usecols=[0,1,2], names=['word','emotion','value'], header=None, delimiter='\\t')"
   ]
  },
  {
   "cell_type": "code",
   "execution_count": 68,
   "metadata": {},
   "outputs": [],
   "source": [
    "emolex_dic = {}\n",
    "for i in range(len(df_lexicon)):\n",
    "    word = df_lexicon['word'][i]\n",
    "    emotion = df_lexicon['emotion'][i]\n",
    "    value = df_lexicon['value'][i]\n",
    "    if word not in emolex_dic:\n",
    "        emolex_dic[word] = {}\n",
    "    emolex_dic[word][emotion] = value"
   ]
  },
  {
   "cell_type": "code",
   "execution_count": 69,
   "metadata": {},
   "outputs": [],
   "source": [
    "emolex_train = []\n",
    "for i in range(len(df['statement'])):\n",
    "    temp = df['statement'][i].lower().split()\n",
    "    temp2 = np.zeros(10,dtype=int)\n",
    "    for j in range(len(temp)):\n",
    "        if temp[j] in emolex_dic:\n",
    "            temp2 += np.array(list(emolex_dic[temp[j]].values()))\n",
    "    emolex_train.append(list(temp2))"
   ]
  },
  {
   "cell_type": "code",
   "execution_count": 70,
   "metadata": {},
   "outputs": [],
   "source": [
    "emolex_test = []\n",
    "for i in range(len(df_test['statement'])):\n",
    "    temp = df_test['statement'][i].lower().split()\n",
    "    temp2 = np.zeros(10,dtype=int)\n",
    "    for j in range(len(temp)):\n",
    "        if temp[j] in emolex_dic:\n",
    "            temp2 += np.array(list(emolex_dic[temp[j]].values()))\n",
    "    emolex_test.append(temp2)"
   ]
  },
  {
   "cell_type": "code",
   "execution_count": 71,
   "metadata": {},
   "outputs": [],
   "source": [
    "emolex_val = []\n",
    "for i in range(len(df_val['statement'])):\n",
    "    temp = df_val['statement'][i].lower().split()\n",
    "    temp2 = np.zeros(10,dtype=int)\n",
    "    for j in range(len(temp)):\n",
    "        if temp[j] in emolex_dic:\n",
    "            temp2 += np.array(list(emolex_dic[temp[j]].values()))\n",
    "    emolex_val.append(temp2)"
   ]
  },
  {
   "cell_type": "code",
   "execution_count": 72,
   "metadata": {},
   "outputs": [],
   "source": [
    "emolex_train_df = pd.DataFrame(emolex_train)\n",
    "emolex_train_df.columns = [\"e1\", \"e2\", \"e3\", \"e4\", \"e5\", \"e6\", \"e7\", \"e8\", \"e9\", \"e10\"]"
   ]
  },
  {
   "cell_type": "code",
   "execution_count": 73,
   "metadata": {},
   "outputs": [],
   "source": [
    "emolex_test_df = pd.DataFrame(emolex_test)\n",
    "emolex_test_df.columns = [\"e1\", \"e2\", \"e3\", \"e4\", \"e5\", \"e6\", \"e7\", \"e8\", \"e9\", \"e10\"]"
   ]
  },
  {
   "cell_type": "code",
   "execution_count": 74,
   "metadata": {},
   "outputs": [],
   "source": [
    "emolex_val_df = pd.DataFrame(emolex_val)\n",
    "emolex_val_df.columns = [\"e1\", \"e2\", \"e3\", \"e4\", \"e5\", \"e6\", \"e7\", \"e8\", \"e9\", \"e10\"]"
   ]
  },
  {
   "cell_type": "markdown",
   "metadata": {},
   "source": [
    "# Metadata\n",
    "\n",
    "> That can be directly used from the original dataframes"
   ]
  },
  {
   "cell_type": "code",
   "execution_count": 75,
   "metadata": {},
   "outputs": [
    {
     "data": {
      "text/plain": [
       "Index(['label', 'statement', 'barely_true_count', 'false_count',\n",
       "       'half_true_count', 'mostly_true_count', 'pof_count', 'justification'],\n",
       "      dtype='object')"
      ]
     },
     "execution_count": 75,
     "metadata": {},
     "output_type": "execute_result"
    }
   ],
   "source": [
    "df.keys()"
   ]
  },
  {
   "cell_type": "code",
   "execution_count": 76,
   "metadata": {},
   "outputs": [],
   "source": [
    "## Fixing nan values"
   ]
  },
  {
   "cell_type": "code",
   "execution_count": 77,
   "metadata": {},
   "outputs": [
    {
     "name": "stderr",
     "output_type": "stream",
     "text": [
      "/home/shreyash15097/.local/lib/python3.6/site-packages/ipykernel_launcher.py:1: SettingWithCopyWarning: \n",
      "A value is trying to be set on a copy of a slice from a DataFrame\n",
      "\n",
      "See the caveats in the documentation: http://pandas.pydata.org/pandas-docs/stable/indexing.html#indexing-view-versus-copy\n",
      "  \"\"\"Entry point for launching an IPython kernel.\n",
      "/home/shreyash15097/.local/lib/python3.6/site-packages/ipykernel_launcher.py:2: SettingWithCopyWarning: \n",
      "A value is trying to be set on a copy of a slice from a DataFrame\n",
      "\n",
      "See the caveats in the documentation: http://pandas.pydata.org/pandas-docs/stable/indexing.html#indexing-view-versus-copy\n",
      "  \n",
      "/home/shreyash15097/.local/lib/python3.6/site-packages/ipykernel_launcher.py:3: SettingWithCopyWarning: \n",
      "A value is trying to be set on a copy of a slice from a DataFrame\n",
      "\n",
      "See the caveats in the documentation: http://pandas.pydata.org/pandas-docs/stable/indexing.html#indexing-view-versus-copy\n",
      "  This is separate from the ipykernel package so we can avoid doing imports until\n",
      "/home/shreyash15097/.local/lib/python3.6/site-packages/ipykernel_launcher.py:4: SettingWithCopyWarning: \n",
      "A value is trying to be set on a copy of a slice from a DataFrame\n",
      "\n",
      "See the caveats in the documentation: http://pandas.pydata.org/pandas-docs/stable/indexing.html#indexing-view-versus-copy\n",
      "  after removing the cwd from sys.path.\n",
      "/home/shreyash15097/.local/lib/python3.6/site-packages/ipykernel_launcher.py:5: SettingWithCopyWarning: \n",
      "A value is trying to be set on a copy of a slice from a DataFrame\n",
      "\n",
      "See the caveats in the documentation: http://pandas.pydata.org/pandas-docs/stable/indexing.html#indexing-view-versus-copy\n",
      "  \"\"\"\n"
     ]
    }
   ],
   "source": [
    "df['barely_true_count'][2142] = 0.0\n",
    "df['false_count'][2142] = 0.0\n",
    "df['half_true_count'][2142] = 0.0\n",
    "df['mostly_true_count'][2142] = 0.0\n",
    "df['pof_count'][2142] = 0.0"
   ]
  },
  {
   "cell_type": "code",
   "execution_count": 78,
   "metadata": {},
   "outputs": [
    {
     "name": "stderr",
     "output_type": "stream",
     "text": [
      "/home/shreyash15097/.local/lib/python3.6/site-packages/ipykernel_launcher.py:1: SettingWithCopyWarning: \n",
      "A value is trying to be set on a copy of a slice from a DataFrame\n",
      "\n",
      "See the caveats in the documentation: http://pandas.pydata.org/pandas-docs/stable/indexing.html#indexing-view-versus-copy\n",
      "  \"\"\"Entry point for launching an IPython kernel.\n",
      "/home/shreyash15097/.local/lib/python3.6/site-packages/ipykernel_launcher.py:2: SettingWithCopyWarning: \n",
      "A value is trying to be set on a copy of a slice from a DataFrame\n",
      "\n",
      "See the caveats in the documentation: http://pandas.pydata.org/pandas-docs/stable/indexing.html#indexing-view-versus-copy\n",
      "  \n",
      "/home/shreyash15097/.local/lib/python3.6/site-packages/ipykernel_launcher.py:3: SettingWithCopyWarning: \n",
      "A value is trying to be set on a copy of a slice from a DataFrame\n",
      "\n",
      "See the caveats in the documentation: http://pandas.pydata.org/pandas-docs/stable/indexing.html#indexing-view-versus-copy\n",
      "  This is separate from the ipykernel package so we can avoid doing imports until\n",
      "/home/shreyash15097/.local/lib/python3.6/site-packages/ipykernel_launcher.py:4: SettingWithCopyWarning: \n",
      "A value is trying to be set on a copy of a slice from a DataFrame\n",
      "\n",
      "See the caveats in the documentation: http://pandas.pydata.org/pandas-docs/stable/indexing.html#indexing-view-versus-copy\n",
      "  after removing the cwd from sys.path.\n",
      "/home/shreyash15097/.local/lib/python3.6/site-packages/ipykernel_launcher.py:5: SettingWithCopyWarning: \n",
      "A value is trying to be set on a copy of a slice from a DataFrame\n",
      "\n",
      "See the caveats in the documentation: http://pandas.pydata.org/pandas-docs/stable/indexing.html#indexing-view-versus-copy\n",
      "  \"\"\"\n"
     ]
    }
   ],
   "source": [
    "df['barely_true_count'][9375] = 0.0\n",
    "df['false_count'][9375] = 0.0\n",
    "df['half_true_count'][9375] = 0.0\n",
    "df['mostly_true_count'][9375] = 0.0\n",
    "df['pof_count'][9375] = 0.0"
   ]
  },
  {
   "cell_type": "code",
   "execution_count": 79,
   "metadata": {},
   "outputs": [],
   "source": [
    "# truenan = np.isnan(df['pof_count'])"
   ]
  },
  {
   "cell_type": "code",
   "execution_count": 80,
   "metadata": {},
   "outputs": [],
   "source": [
    "# for i in range(len(truenan)):\n",
    "#     if truenan[i]==True:\n",
    "#         print(i)"
   ]
  },
  {
   "cell_type": "markdown",
   "metadata": {},
   "source": [
    "## Combining features"
   ]
  },
  {
   "cell_type": "markdown",
   "metadata": {},
   "source": [
    "## S+MJ"
   ]
  },
  {
   "cell_type": "code",
   "execution_count": 81,
   "metadata": {},
   "outputs": [],
   "source": [
    "from scipy.sparse import hstack \n",
    "vectorizer = CountVectorizer(analyzer = \"word\",tokenizer = None,preprocessor = None,min_df = 2, ngram_range=(1,2)) # ngram_range = unigram and bigrams\n",
    "# vectorizer = CountVectorizer()"
   ]
  },
  {
   "cell_type": "markdown",
   "metadata": {},
   "source": [
    "Train data"
   ]
  },
  {
   "cell_type": "code",
   "execution_count": 82,
   "metadata": {},
   "outputs": [],
   "source": [
    "X_train_SpMJ = vectorizer.fit_transform(train_processed_SJ)\n",
    "tf_transformer = TfidfTransformer(use_idf=True).fit(X_train_SpMJ) \n",
    "X_train_SpMJ = tf_transformer.transform(X_train_SpMJ)"
   ]
  },
  {
   "cell_type": "code",
   "execution_count": 83,
   "metadata": {},
   "outputs": [
    {
     "name": "stdout",
     "output_type": "stream",
     "text": [
      "False\n"
     ]
    }
   ],
   "source": [
    "#Adding rest of the features\n",
    "\n",
    "# Sentiment Features\n",
    "X_train_SpMJ = hstack((X_train_SpMJ,np.array(senti_train_df['pos_sent'])[:,None]))\n",
    "X_train_SpMJ = hstack((X_train_SpMJ,np.array(senti_train_df['neg_sent'])[:,None]))\n",
    "\n",
    "# Emolex features\n",
    "X_train_SpMJ = hstack((X_train_SpMJ,np.array(emolex_train_df['e1'])[:,None]))\n",
    "X_train_SpMJ = hstack((X_train_SpMJ,np.array(emolex_train_df['e2'])[:,None]))\n",
    "X_train_SpMJ = hstack((X_train_SpMJ,np.array(emolex_train_df['e3'])[:,None]))\n",
    "X_train_SpMJ = hstack((X_train_SpMJ,np.array(emolex_train_df['e4'])[:,None]))\n",
    "X_train_SpMJ = hstack((X_train_SpMJ,np.array(emolex_train_df['e5'])[:,None]))\n",
    "X_train_SpMJ = hstack((X_train_SpMJ,np.array(emolex_train_df['e6'])[:,None]))\n",
    "X_train_SpMJ = hstack((X_train_SpMJ,np.array(emolex_train_df['e7'])[:,None]))\n",
    "X_train_SpMJ = hstack((X_train_SpMJ,np.array(emolex_train_df['e8'])[:,None]))\n",
    "X_train_SpMJ = hstack((X_train_SpMJ,np.array(emolex_train_df['e9'])[:,None]))\n",
    "X_train_SpMJ = hstack((X_train_SpMJ,np.array(emolex_train_df['e10'])[:,None]))\n",
    "\n",
    "# Metadata\n",
    "X_train_SpMJ = hstack((X_train_SpMJ,np.array(df['barely_true_count'])[:,None]))\n",
    "X_train_SpMJ = hstack((X_train_SpMJ,np.array(df['false_count'])[:,None]))\n",
    "X_train_SpMJ = hstack((X_train_SpMJ,np.array(df['half_true_count'])[:,None]))\n",
    "X_train_SpMJ = hstack((X_train_SpMJ,np.array(df['mostly_true_count'])[:,None]))\n",
    "X_train_SpMJ = hstack((X_train_SpMJ,np.array(df['pof_count'])[:,None]))\n",
    "print(np.isnan(X_train_SpMJ.data).any())\n"
   ]
  },
  {
   "cell_type": "code",
   "execution_count": 84,
   "metadata": {},
   "outputs": [
    {
     "data": {
      "text/plain": [
       "(10240, 62415)"
      ]
     },
     "execution_count": 84,
     "metadata": {},
     "output_type": "execute_result"
    }
   ],
   "source": [
    "X_train_SpMJ.shape"
   ]
  },
  {
   "cell_type": "markdown",
   "metadata": {},
   "source": [
    "Test data"
   ]
  },
  {
   "cell_type": "code",
   "execution_count": 85,
   "metadata": {},
   "outputs": [],
   "source": [
    "X_test_SpMJ = vectorizer.transform(test_processed_SJ)\n",
    "tf_transformer = TfidfTransformer(use_idf=True).fit(X_test_SpMJ) \n",
    "X_test_SpMJ = tf_transformer.transform(X_test_SpMJ)"
   ]
  },
  {
   "cell_type": "code",
   "execution_count": 86,
   "metadata": {},
   "outputs": [],
   "source": [
    "#Adding rest of the features\n",
    "\n",
    "# Sentiment Features\n",
    "X_test_SpMJ = hstack((X_test_SpMJ,np.array(senti_test_df['pos_sent'])[:,None]))\n",
    "X_test_SpMJ = hstack((X_test_SpMJ,np.array(senti_test_df['neg_sent'])[:,None]))\n",
    "\n",
    "# Emolex features\n",
    "X_test_SpMJ = hstack((X_test_SpMJ,np.array(emolex_test_df['e1'])[:,None]))\n",
    "X_test_SpMJ = hstack((X_test_SpMJ,np.array(emolex_test_df['e2'])[:,None]))\n",
    "X_test_SpMJ = hstack((X_test_SpMJ,np.array(emolex_test_df['e3'])[:,None]))\n",
    "X_test_SpMJ = hstack((X_test_SpMJ,np.array(emolex_test_df['e4'])[:,None]))\n",
    "X_test_SpMJ = hstack((X_test_SpMJ,np.array(emolex_test_df['e5'])[:,None]))\n",
    "X_test_SpMJ = hstack((X_test_SpMJ,np.array(emolex_test_df['e6'])[:,None]))\n",
    "X_test_SpMJ = hstack((X_test_SpMJ,np.array(emolex_test_df['e7'])[:,None]))\n",
    "X_test_SpMJ = hstack((X_test_SpMJ,np.array(emolex_test_df['e8'])[:,None]))\n",
    "X_test_SpMJ = hstack((X_test_SpMJ,np.array(emolex_test_df['e9'])[:,None]))\n",
    "X_test_SpMJ = hstack((X_test_SpMJ,np.array(emolex_test_df['e10'])[:,None]))\n",
    "\n",
    "# Metadata\n",
    "X_test_SpMJ = hstack((X_test_SpMJ,np.array(df_test['barely_true_count'])[:,None]))\n",
    "X_test_SpMJ = hstack((X_test_SpMJ,np.array(df_test['false_count'])[:,None]))\n",
    "X_test_SpMJ = hstack((X_test_SpMJ,np.array(df_test['half_true_count'])[:,None]))\n",
    "X_test_SpMJ = hstack((X_test_SpMJ,np.array(df_test['mostly_true_count'])[:,None]))\n",
    "X_test_SpMJ = hstack((X_test_SpMJ,np.array(df_test['pof_count'])[:,None]))"
   ]
  },
  {
   "cell_type": "code",
   "execution_count": 87,
   "metadata": {},
   "outputs": [
    {
     "data": {
      "text/plain": [
       "(1267, 62415)"
      ]
     },
     "execution_count": 87,
     "metadata": {},
     "output_type": "execute_result"
    }
   ],
   "source": [
    "X_test_SpMJ.shape"
   ]
  },
  {
   "cell_type": "code",
   "execution_count": null,
   "metadata": {},
   "outputs": [],
   "source": []
  },
  {
   "cell_type": "markdown",
   "metadata": {},
   "source": [
    "Validation data"
   ]
  },
  {
   "cell_type": "code",
   "execution_count": 88,
   "metadata": {},
   "outputs": [],
   "source": [
    "X_val_SpMJ = vectorizer.transform(val_processed_SJ)\n",
    "tf_transformer = TfidfTransformer(use_idf=True).fit(X_val_SpMJ) \n",
    "X_val_SpMJ = tf_transformer.transform(X_val_SpMJ)"
   ]
  },
  {
   "cell_type": "code",
   "execution_count": 89,
   "metadata": {},
   "outputs": [],
   "source": [
    "#Adding rest of the features\n",
    "\n",
    "# Sentiment Features\n",
    "X_val_SpMJ = hstack((X_val_SpMJ,np.array(senti_val_df['pos_sent'])[:,None]))\n",
    "X_val_SpMJ = hstack((X_val_SpMJ,np.array(senti_val_df['neg_sent'])[:,None]))\n",
    "\n",
    "# Emolex features\n",
    "X_val_SpMJ = hstack((X_val_SpMJ,np.array(emolex_val_df['e1'])[:,None]))\n",
    "X_val_SpMJ = hstack((X_val_SpMJ,np.array(emolex_val_df['e2'])[:,None]))\n",
    "X_val_SpMJ = hstack((X_val_SpMJ,np.array(emolex_val_df['e3'])[:,None]))\n",
    "X_val_SpMJ = hstack((X_val_SpMJ,np.array(emolex_val_df['e4'])[:,None]))\n",
    "X_val_SpMJ = hstack((X_val_SpMJ,np.array(emolex_val_df['e5'])[:,None]))\n",
    "X_val_SpMJ = hstack((X_val_SpMJ,np.array(emolex_val_df['e6'])[:,None]))\n",
    "X_val_SpMJ = hstack((X_val_SpMJ,np.array(emolex_val_df['e7'])[:,None]))\n",
    "X_val_SpMJ = hstack((X_val_SpMJ,np.array(emolex_val_df['e8'])[:,None]))\n",
    "X_val_SpMJ = hstack((X_val_SpMJ,np.array(emolex_val_df['e9'])[:,None]))\n",
    "X_val_SpMJ = hstack((X_val_SpMJ,np.array(emolex_val_df['e10'])[:,None]))\n",
    "\n",
    "# Metadata\n",
    "X_val_SpMJ = hstack((X_val_SpMJ,np.array(df_val['barely_true_count'])[:,None]))\n",
    "X_val_SpMJ = hstack((X_val_SpMJ,np.array(df_val['false_count'])[:,None]))\n",
    "X_val_SpMJ = hstack((X_val_SpMJ,np.array(df_val['half_true_count'])[:,None]))\n",
    "X_val_SpMJ = hstack((X_val_SpMJ,np.array(df_val['mostly_true_count'])[:,None]))\n",
    "X_val_SpMJ = hstack((X_val_SpMJ,np.array(df_val['pof_count'])[:,None]))"
   ]
  },
  {
   "cell_type": "code",
   "execution_count": 90,
   "metadata": {},
   "outputs": [
    {
     "data": {
      "text/plain": [
       "(1284, 62415)"
      ]
     },
     "execution_count": 90,
     "metadata": {},
     "output_type": "execute_result"
    }
   ],
   "source": [
    "X_val_SpMJ.shape"
   ]
  },
  {
   "cell_type": "code",
   "execution_count": null,
   "metadata": {},
   "outputs": [],
   "source": []
  },
  {
   "cell_type": "markdown",
   "metadata": {},
   "source": [
    "## Binary Classification"
   ]
  },
  {
   "cell_type": "markdown",
   "metadata": {},
   "source": [
    "SVM"
   ]
  },
  {
   "cell_type": "code",
   "execution_count": 91,
   "metadata": {},
   "outputs": [
    {
     "name": "stderr",
     "output_type": "stream",
     "text": [
      "/home/shreyash15097/.local/lib/python3.6/site-packages/sklearn/svm/base.py:929: ConvergenceWarning: Liblinear failed to converge, increase the number of iterations.\n",
      "  \"the number of iterations.\", ConvergenceWarning)\n"
     ]
    },
    {
     "data": {
      "text/plain": [
       "LinearSVC(C=1.0, class_weight=None, dual=True, fit_intercept=True,\n",
       "          intercept_scaling=1, loss='squared_hinge', max_iter=1000,\n",
       "          multi_class='ovr', penalty='l2', random_state=0, tol=1e-05,\n",
       "          verbose=0)"
      ]
     },
     "execution_count": 91,
     "metadata": {},
     "output_type": "execute_result"
    }
   ],
   "source": [
    "model_LSVC = LinearSVC(random_state=0, tol=1e-5)\n",
    "model_LSVC.fit(X_train_SpMJ,train_blabels_df['label'])"
   ]
  },
  {
   "cell_type": "code",
   "execution_count": 92,
   "metadata": {},
   "outputs": [
    {
     "name": "stdout",
     "output_type": "stream",
     "text": [
      "0.5832675611681136\n"
     ]
    }
   ],
   "source": [
    "predicted =model_LSVC.predict(X_test_SpMJ)\n",
    "print(classification_report(test_blabels_df['label'], predicted))\n",
    "count=0\n",
    "for i in range(len(test_blabels_df['label'])):\n",
    "    if test_blabels_df['label'][i]==predicted[i]:\n",
    "        count+=1\n",
    "print(count/len(predicted))"
   ]
  },
  {
   "cell_type": "code",
   "execution_count": 93,
   "metadata": {},
   "outputs": [
    {
     "name": "stdout",
     "output_type": "stream",
     "text": [
      "0.6230529595015576\n"
     ]
    }
   ],
   "source": [
    "predicted =model_LSVC.predict(X_val_SpMJ)\n",
    "print(classification_report(val_blabels_df['label'], predicted))\n",
    "count=0\n",
    "for i in range(len(val_blabels_df['label'])):\n",
    "    if val_blabels_df['label'][i]==predicted[i]:\n",
    "        count+=1\n",
    "print(count/len(predicted))"
   ]
  },
  {
   "cell_type": "markdown",
   "metadata": {},
   "source": [
    "Logistic Regerssion"
   ]
  },
  {
   "cell_type": "code",
   "execution_count": 94,
   "metadata": {},
   "outputs": [
    {
     "name": "stderr",
     "output_type": "stream",
     "text": [
      "/home/shreyash15097/.local/lib/python3.6/site-packages/sklearn/linear_model/logistic.py:947: ConvergenceWarning: lbfgs failed to converge. Increase the number of iterations.\n",
      "  \"of iterations.\", ConvergenceWarning)\n"
     ]
    }
   ],
   "source": [
    "clf = LogisticRegression(random_state=0, solver='lbfgs',multi_class='ovr').fit(X_train_SpMJ, train_blabels_df['label'])"
   ]
  },
  {
   "cell_type": "code",
   "execution_count": 95,
   "metadata": {},
   "outputs": [
    {
     "name": "stdout",
     "output_type": "stream",
     "text": [
      "0.6235201262825573\n"
     ]
    }
   ],
   "source": [
    "predicted =clf.predict(X_test_SpMJ)\n",
    "print(classification_report(test_blabels_df['label'], predicted))\n",
    "count=0\n",
    "for i in range(len(test_blabels_df['label'])):\n",
    "    if test_blabels_df['label'][i]==predicted[i]:\n",
    "        count+=1\n",
    "print(count/len(predicted))"
   ]
  },
  {
   "cell_type": "code",
   "execution_count": 96,
   "metadata": {},
   "outputs": [
    {
     "name": "stdout",
     "output_type": "stream",
     "text": [
      "0.677570093457944\n"
     ]
    }
   ],
   "source": [
    "predicted =clf.predict(X_val_SpMJ)\n",
    "print(classification_report(val_blabels_df['label'], predicted))\n",
    "count=0\n",
    "for i in range(len(val_blabels_df['label'])):\n",
    "    if val_blabels_df['label'][i]==predicted[i]:\n",
    "        count+=1\n",
    "print(count/len(predicted))"
   ]
  },
  {
   "cell_type": "code",
   "execution_count": null,
   "metadata": {},
   "outputs": [],
   "source": []
  },
  {
   "cell_type": "markdown",
   "metadata": {},
   "source": [
    "## Multi Classification"
   ]
  },
  {
   "cell_type": "markdown",
   "metadata": {},
   "source": [
    "SVM"
   ]
  },
  {
   "cell_type": "code",
   "execution_count": 97,
   "metadata": {},
   "outputs": [
    {
     "name": "stderr",
     "output_type": "stream",
     "text": [
      "/home/shreyash15097/.local/lib/python3.6/site-packages/sklearn/svm/base.py:929: ConvergenceWarning: Liblinear failed to converge, increase the number of iterations.\n",
      "  \"the number of iterations.\", ConvergenceWarning)\n"
     ]
    },
    {
     "data": {
      "text/plain": [
       "LinearSVC(C=1.0, class_weight=None, dual=True, fit_intercept=True,\n",
       "          intercept_scaling=1, loss='squared_hinge', max_iter=1000,\n",
       "          multi_class='ovr', penalty='l2', random_state=0, tol=1e-05,\n",
       "          verbose=0)"
      ]
     },
     "execution_count": 97,
     "metadata": {},
     "output_type": "execute_result"
    }
   ],
   "source": [
    "model_LSVC = LinearSVC(random_state=0, tol=1e-5)\n",
    "model_LSVC.fit(X_train_SpMJ,df['label'])"
   ]
  },
  {
   "cell_type": "code",
   "execution_count": 98,
   "metadata": {},
   "outputs": [
    {
     "name": "stdout",
     "output_type": "stream",
     "text": [
      "0.250197316495659\n"
     ]
    }
   ],
   "source": [
    "predicted =model_LSVC.predict(X_test_SpMJ)\n",
    "print(classification_report(df_test['label'], predicted))\n",
    "count=0\n",
    "for i in range(len(df_test['label'])):\n",
    "    if df_test['label'][i]==predicted[i]:\n",
    "        count+=1\n",
    "print(count/len(predicted))"
   ]
  },
  {
   "cell_type": "code",
   "execution_count": 99,
   "metadata": {},
   "outputs": [
    {
     "name": "stdout",
     "output_type": "stream",
     "text": [
      "0.29127725856697817\n"
     ]
    }
   ],
   "source": [
    "predicted =model_LSVC.predict(X_val_SpMJ)\n",
    "print(classification_report(df_val['label'], predicted))\n",
    "count=0\n",
    "for i in range(len(df_val['label'])):\n",
    "    if df_val['label'][i]==predicted[i]:\n",
    "        count+=1\n",
    "print(count/len(predicted))"
   ]
  },
  {
   "cell_type": "markdown",
   "metadata": {},
   "source": [
    "Logistic Regression"
   ]
  },
  {
   "cell_type": "code",
   "execution_count": 100,
   "metadata": {},
   "outputs": [
    {
     "name": "stderr",
     "output_type": "stream",
     "text": [
      "/home/shreyash15097/.local/lib/python3.6/site-packages/sklearn/linear_model/logistic.py:947: ConvergenceWarning: lbfgs failed to converge. Increase the number of iterations.\n",
      "  \"of iterations.\", ConvergenceWarning)\n"
     ]
    }
   ],
   "source": [
    "clf = LogisticRegression(random_state=0, solver='lbfgs',multi_class='multinomial').fit(X_train_SpMJ, df['label'])"
   ]
  },
  {
   "cell_type": "code",
   "execution_count": 101,
   "metadata": {},
   "outputs": [
    {
     "name": "stdout",
     "output_type": "stream",
     "text": [
      "0.303078137332281\n"
     ]
    }
   ],
   "source": [
    "predicted =clf.predict(X_test_SpMJ)\n",
    "print(classification_report(df_test['label'], predicted))\n",
    "count=0\n",
    "for i in range(len(df_test['label'])):\n",
    "    if df_test['label'][i]==predicted[i]:\n",
    "        count+=1\n",
    "print(count/len(predicted))"
   ]
  },
  {
   "cell_type": "code",
   "execution_count": 102,
   "metadata": {},
   "outputs": [
    {
     "name": "stdout",
     "output_type": "stream",
     "text": [
      "0.3325545171339564\n"
     ]
    }
   ],
   "source": [
    "predicted =clf.predict(X_val_SpMJ)\n",
    "print(classification_report(df_val['label'], predicted))\n",
    "count=0\n",
    "for i in range(len(df_val['label'])):\n",
    "    if df_val['label'][i]==predicted[i]:\n",
    "        count+=1\n",
    "print(count/len(predicted))"
   ]
  },
  {
   "cell_type": "markdown",
   "metadata": {},
   "source": [
    "# S+M"
   ]
  },
  {
   "cell_type": "code",
   "execution_count": 103,
   "metadata": {},
   "outputs": [],
   "source": [
    "from scipy.sparse import hstack \n",
    "vectorizer = CountVectorizer(analyzer = \"word\",tokenizer = None,preprocessor = None,min_df = 2, ngram_range=(1,2)) # ngram_range = unigram and bigrams\n",
    "# vectorizer = CountVectorizer()"
   ]
  },
  {
   "cell_type": "code",
   "execution_count": 104,
   "metadata": {},
   "outputs": [],
   "source": [
    "X_train_SpM = vectorizer.fit_transform(train_processed_S)\n",
    "tf_transformer = TfidfTransformer(use_idf=True).fit(X_train_SpM) \n",
    "X_train_SpM = tf_transformer.transform(X_train_SpM)"
   ]
  },
  {
   "cell_type": "code",
   "execution_count": 105,
   "metadata": {},
   "outputs": [
    {
     "name": "stdout",
     "output_type": "stream",
     "text": [
      "False\n"
     ]
    }
   ],
   "source": [
    "#Adding rest of the features\n",
    "\n",
    "# Sentiment Features\n",
    "X_train_SpM = hstack((X_train_SpM,np.array(senti_train_df['pos_sent'])[:,None]))\n",
    "X_train_SpM = hstack((X_train_SpM,np.array(senti_train_df['neg_sent'])[:,None]))\n",
    "\n",
    "# Emolex features\n",
    "X_train_SpM = hstack((X_train_SpM,np.array(emolex_train_df['e1'])[:,None]))\n",
    "X_train_SpM = hstack((X_train_SpM,np.array(emolex_train_df['e2'])[:,None]))\n",
    "X_train_SpM = hstack((X_train_SpM,np.array(emolex_train_df['e3'])[:,None]))\n",
    "X_train_SpM = hstack((X_train_SpM,np.array(emolex_train_df['e4'])[:,None]))\n",
    "X_train_SpM = hstack((X_train_SpM,np.array(emolex_train_df['e5'])[:,None]))\n",
    "X_train_SpM = hstack((X_train_SpM,np.array(emolex_train_df['e6'])[:,None]))\n",
    "X_train_SpM = hstack((X_train_SpM,np.array(emolex_train_df['e7'])[:,None]))\n",
    "X_train_SpM = hstack((X_train_SpM,np.array(emolex_train_df['e8'])[:,None]))\n",
    "X_train_SpM = hstack((X_train_SpM,np.array(emolex_train_df['e9'])[:,None]))\n",
    "X_train_SpM = hstack((X_train_SpM,np.array(emolex_train_df['e10'])[:,None]))\n",
    "\n",
    "# Metadata\n",
    "X_train_SpM = hstack((X_train_SpM,np.array(df['barely_true_count'])[:,None]))\n",
    "X_train_SpM = hstack((X_train_SpM,np.array(df['false_count'])[:,None]))\n",
    "X_train_SpM = hstack((X_train_SpM,np.array(df['half_true_count'])[:,None]))\n",
    "X_train_SpM = hstack((X_train_SpM,np.array(df['mostly_true_count'])[:,None]))\n",
    "X_train_SpM = hstack((X_train_SpM,np.array(df['pof_count'])[:,None]))\n",
    "print(np.isnan(X_train_SpM.data).any())\n"
   ]
  },
  {
   "cell_type": "code",
   "execution_count": null,
   "metadata": {},
   "outputs": [],
   "source": []
  },
  {
   "cell_type": "code",
   "execution_count": 106,
   "metadata": {},
   "outputs": [],
   "source": [
    "# Test Set"
   ]
  },
  {
   "cell_type": "code",
   "execution_count": 107,
   "metadata": {},
   "outputs": [],
   "source": [
    "X_test_SpM = vectorizer.transform(test_processed_S)\n",
    "tf_transformer = TfidfTransformer(use_idf=True).fit(X_test_SpM) \n",
    "X_test_SpM = tf_transformer.transform(X_test_SpM)"
   ]
  },
  {
   "cell_type": "code",
   "execution_count": 108,
   "metadata": {},
   "outputs": [],
   "source": [
    "#Adding rest of the features\n",
    "\n",
    "# Sentiment Features\n",
    "X_test_SpM = hstack((X_test_SpM,np.array(senti_test_df['pos_sent'])[:,None]))\n",
    "X_test_SpM = hstack((X_test_SpM,np.array(senti_test_df['neg_sent'])[:,None]))\n",
    "\n",
    "# Emolex features\n",
    "X_test_SpM = hstack((X_test_SpM,np.array(emolex_test_df['e1'])[:,None]))\n",
    "X_test_SpM = hstack((X_test_SpM,np.array(emolex_test_df['e2'])[:,None]))\n",
    "X_test_SpM = hstack((X_test_SpM,np.array(emolex_test_df['e3'])[:,None]))\n",
    "X_test_SpM = hstack((X_test_SpM,np.array(emolex_test_df['e4'])[:,None]))\n",
    "X_test_SpM = hstack((X_test_SpM,np.array(emolex_test_df['e5'])[:,None]))\n",
    "X_test_SpM = hstack((X_test_SpM,np.array(emolex_test_df['e6'])[:,None]))\n",
    "X_test_SpM = hstack((X_test_SpM,np.array(emolex_test_df['e7'])[:,None]))\n",
    "X_test_SpM = hstack((X_test_SpM,np.array(emolex_test_df['e8'])[:,None]))\n",
    "X_test_SpM = hstack((X_test_SpM,np.array(emolex_test_df['e9'])[:,None]))\n",
    "X_test_SpM = hstack((X_test_SpM,np.array(emolex_test_df['e10'])[:,None]))\n",
    "\n",
    "# Metadata\n",
    "X_test_SpM = hstack((X_test_SpM,np.array(df_test['barely_true_count'])[:,None]))\n",
    "X_test_SpM = hstack((X_test_SpM,np.array(df_test['false_count'])[:,None]))\n",
    "X_test_SpM = hstack((X_test_SpM,np.array(df_test['half_true_count'])[:,None]))\n",
    "X_test_SpM = hstack((X_test_SpM,np.array(df_test['mostly_true_count'])[:,None]))\n",
    "X_test_SpM = hstack((X_test_SpM,np.array(df_test['pof_count'])[:,None]))"
   ]
  },
  {
   "cell_type": "code",
   "execution_count": null,
   "metadata": {},
   "outputs": [],
   "source": []
  },
  {
   "cell_type": "code",
   "execution_count": 109,
   "metadata": {},
   "outputs": [],
   "source": [
    "# Validation data"
   ]
  },
  {
   "cell_type": "code",
   "execution_count": 110,
   "metadata": {},
   "outputs": [],
   "source": [
    "X_val_SpM = vectorizer.transform(val_processed_S)\n",
    "tf_transformer = TfidfTransformer(use_idf=True).fit(X_val_SpM) \n",
    "X_val_SpM = tf_transformer.transform(X_val_SpM)"
   ]
  },
  {
   "cell_type": "code",
   "execution_count": 111,
   "metadata": {},
   "outputs": [],
   "source": [
    "#Adding rest of the features\n",
    "\n",
    "# Sentiment Features\n",
    "X_val_SpM = hstack((X_val_SpM,np.array(senti_val_df['pos_sent'])[:,None]))\n",
    "X_val_SpM = hstack((X_val_SpM,np.array(senti_val_df['neg_sent'])[:,None]))\n",
    "\n",
    "# Emolex features\n",
    "X_val_SpM = hstack((X_val_SpM,np.array(emolex_val_df['e1'])[:,None]))\n",
    "X_val_SpM = hstack((X_val_SpM,np.array(emolex_val_df['e2'])[:,None]))\n",
    "X_val_SpM = hstack((X_val_SpM,np.array(emolex_val_df['e3'])[:,None]))\n",
    "X_val_SpM = hstack((X_val_SpM,np.array(emolex_val_df['e4'])[:,None]))\n",
    "X_val_SpM = hstack((X_val_SpM,np.array(emolex_val_df['e5'])[:,None]))\n",
    "X_val_SpM = hstack((X_val_SpM,np.array(emolex_val_df['e6'])[:,None]))\n",
    "X_val_SpM = hstack((X_val_SpM,np.array(emolex_val_df['e7'])[:,None]))\n",
    "X_val_SpM = hstack((X_val_SpM,np.array(emolex_val_df['e8'])[:,None]))\n",
    "X_val_SpM = hstack((X_val_SpM,np.array(emolex_val_df['e9'])[:,None]))\n",
    "X_val_SpM = hstack((X_val_SpM,np.array(emolex_val_df['e10'])[:,None]))\n",
    "\n",
    "# Metadata\n",
    "X_val_SpM = hstack((X_val_SpM,np.array(df_val['barely_true_count'])[:,None]))\n",
    "X_val_SpM = hstack((X_val_SpM,np.array(df_val['false_count'])[:,None]))\n",
    "X_val_SpM = hstack((X_val_SpM,np.array(df_val['half_true_count'])[:,None]))\n",
    "X_val_SpM = hstack((X_val_SpM,np.array(df_val['mostly_true_count'])[:,None]))\n",
    "X_val_SpM = hstack((X_val_SpM,np.array(df_val['pof_count'])[:,None]))"
   ]
  },
  {
   "cell_type": "code",
   "execution_count": null,
   "metadata": {},
   "outputs": [],
   "source": []
  },
  {
   "cell_type": "markdown",
   "metadata": {},
   "source": [
    "## Binary Classification"
   ]
  },
  {
   "cell_type": "markdown",
   "metadata": {},
   "source": [
    "SVM"
   ]
  },
  {
   "cell_type": "code",
   "execution_count": 112,
   "metadata": {},
   "outputs": [
    {
     "name": "stderr",
     "output_type": "stream",
     "text": [
      "/home/shreyash15097/.local/lib/python3.6/site-packages/sklearn/svm/base.py:929: ConvergenceWarning: Liblinear failed to converge, increase the number of iterations.\n",
      "  \"the number of iterations.\", ConvergenceWarning)\n"
     ]
    },
    {
     "data": {
      "text/plain": [
       "LinearSVC(C=1.0, class_weight=None, dual=True, fit_intercept=True,\n",
       "          intercept_scaling=1, loss='squared_hinge', max_iter=1000,\n",
       "          multi_class='ovr', penalty='l2', random_state=0, tol=1e-05,\n",
       "          verbose=0)"
      ]
     },
     "execution_count": 112,
     "metadata": {},
     "output_type": "execute_result"
    }
   ],
   "source": [
    "model_LSVC = LinearSVC(random_state=0, tol=1e-5)\n",
    "model_LSVC.fit(X_train_SpM,train_blabels_df['label'])"
   ]
  },
  {
   "cell_type": "code",
   "execution_count": 113,
   "metadata": {},
   "outputs": [
    {
     "name": "stdout",
     "output_type": "stream",
     "text": [
      "0.6093133385951065\n"
     ]
    }
   ],
   "source": [
    "predicted =model_LSVC.predict(X_test_SpM)\n",
    "print(classification_report(test_blabels_df['label'], predicted))\n",
    "count=0\n",
    "for i in range(len(test_blabels_df['label'])):\n",
    "    if test_blabels_df['label'][i]==predicted[i]:\n",
    "        count+=1\n",
    "print(count/len(predicted))"
   ]
  },
  {
   "cell_type": "code",
   "execution_count": 114,
   "metadata": {},
   "outputs": [
    {
     "name": "stdout",
     "output_type": "stream",
     "text": [
      "0.6347352024922118\n"
     ]
    }
   ],
   "source": [
    "predicted =model_LSVC.predict(X_val_SpM)\n",
    "print(classification_report(val_blabels_df['label'], predicted))\n",
    "count=0\n",
    "for i in range(len(val_blabels_df['label'])):\n",
    "    if val_blabels_df['label'][i]==predicted[i]:\n",
    "        count+=1\n",
    "print(count/len(predicted))"
   ]
  },
  {
   "cell_type": "markdown",
   "metadata": {},
   "source": [
    "Logistic Regression"
   ]
  },
  {
   "cell_type": "code",
   "execution_count": 115,
   "metadata": {},
   "outputs": [
    {
     "name": "stderr",
     "output_type": "stream",
     "text": [
      "/home/shreyash15097/.local/lib/python3.6/site-packages/sklearn/linear_model/logistic.py:947: ConvergenceWarning: lbfgs failed to converge. Increase the number of iterations.\n",
      "  \"of iterations.\", ConvergenceWarning)\n"
     ]
    }
   ],
   "source": [
    "clf = LogisticRegression(random_state=0, solver='lbfgs',multi_class='ovr').fit(X_train_SpM, train_blabels_df['label'])"
   ]
  },
  {
   "cell_type": "code",
   "execution_count": 116,
   "metadata": {},
   "outputs": [
    {
     "name": "stdout",
     "output_type": "stream",
     "text": [
      "0.6235201262825573\n"
     ]
    }
   ],
   "source": [
    "predicted =clf.predict(X_test_SpM)\n",
    "print(classification_report(test_blabels_df['label'], predicted))\n",
    "count=0\n",
    "for i in range(len(test_blabels_df['label'])):\n",
    "    if test_blabels_df['label'][i]==predicted[i]:\n",
    "        count+=1\n",
    "print(count/len(predicted))"
   ]
  },
  {
   "cell_type": "code",
   "execution_count": 117,
   "metadata": {},
   "outputs": [
    {
     "name": "stdout",
     "output_type": "stream",
     "text": [
      "0.6752336448598131\n"
     ]
    }
   ],
   "source": [
    "predicted =clf.predict(X_val_SpM)\n",
    "print(classification_report(val_blabels_df['label'], predicted))\n",
    "count=0\n",
    "for i in range(len(val_blabels_df['label'])):\n",
    "    if val_blabels_df['label'][i]==predicted[i]:\n",
    "        count+=1\n",
    "print(count/len(predicted))"
   ]
  },
  {
   "cell_type": "code",
   "execution_count": null,
   "metadata": {},
   "outputs": [],
   "source": []
  },
  {
   "cell_type": "markdown",
   "metadata": {},
   "source": [
    "## Multiclass Classification"
   ]
  },
  {
   "cell_type": "markdown",
   "metadata": {},
   "source": [
    "SVM"
   ]
  },
  {
   "cell_type": "code",
   "execution_count": 118,
   "metadata": {},
   "outputs": [
    {
     "name": "stderr",
     "output_type": "stream",
     "text": [
      "/home/shreyash15097/.local/lib/python3.6/site-packages/sklearn/svm/base.py:929: ConvergenceWarning: Liblinear failed to converge, increase the number of iterations.\n",
      "  \"the number of iterations.\", ConvergenceWarning)\n"
     ]
    },
    {
     "data": {
      "text/plain": [
       "LinearSVC(C=1.0, class_weight=None, dual=True, fit_intercept=True,\n",
       "          intercept_scaling=1, loss='squared_hinge', max_iter=1000,\n",
       "          multi_class='ovr', penalty='l2', random_state=0, tol=1e-05,\n",
       "          verbose=0)"
      ]
     },
     "execution_count": 118,
     "metadata": {},
     "output_type": "execute_result"
    }
   ],
   "source": [
    "model_LSVC = LinearSVC(random_state=0, tol=1e-5)\n",
    "model_LSVC.fit(X_train_SpM,df['label'])"
   ]
  },
  {
   "cell_type": "code",
   "execution_count": 119,
   "metadata": {},
   "outputs": [
    {
     "name": "stdout",
     "output_type": "stream",
     "text": [
      "0.24230465666929754\n"
     ]
    }
   ],
   "source": [
    "predicted =model_LSVC.predict(X_test_SpM)\n",
    "print(classification_report(df_test['label'], predicted))\n",
    "count=0\n",
    "for i in range(len(df_test['label'])):\n",
    "    if df_test['label'][i]==predicted[i]:\n",
    "        count+=1\n",
    "print(count/len(predicted))"
   ]
  },
  {
   "cell_type": "code",
   "execution_count": 120,
   "metadata": {},
   "outputs": [
    {
     "name": "stdout",
     "output_type": "stream",
     "text": [
      "0.26557632398753894\n"
     ]
    }
   ],
   "source": [
    "predicted =model_LSVC.predict(X_val_SpM)\n",
    "print(classification_report(df_val['label'], predicted))\n",
    "count=0\n",
    "for i in range(len(df_val['label'])):\n",
    "    if df_val['label'][i]==predicted[i]:\n",
    "        count+=1\n",
    "print(count/len(predicted))"
   ]
  },
  {
   "cell_type": "markdown",
   "metadata": {},
   "source": [
    "Logistic Regression"
   ]
  },
  {
   "cell_type": "code",
   "execution_count": 121,
   "metadata": {},
   "outputs": [
    {
     "name": "stderr",
     "output_type": "stream",
     "text": [
      "/home/shreyash15097/.local/lib/python3.6/site-packages/sklearn/linear_model/logistic.py:947: ConvergenceWarning: lbfgs failed to converge. Increase the number of iterations.\n",
      "  \"of iterations.\", ConvergenceWarning)\n"
     ]
    }
   ],
   "source": [
    "clf = LogisticRegression(random_state=0, solver='lbfgs',multi_class='multinomial').fit(X_train_SpM, df['label'])"
   ]
  },
  {
   "cell_type": "code",
   "execution_count": 122,
   "metadata": {},
   "outputs": [
    {
     "name": "stdout",
     "output_type": "stream",
     "text": [
      "0.2975532754538279\n"
     ]
    }
   ],
   "source": [
    "predicted =clf.predict(X_test_SpM)\n",
    "print(classification_report(df_test['label'], predicted))\n",
    "count=0\n",
    "for i in range(len(df_test['label'])):\n",
    "    if df_test['label'][i]==predicted[i]:\n",
    "        count+=1\n",
    "print(count/len(predicted))"
   ]
  },
  {
   "cell_type": "code",
   "execution_count": 123,
   "metadata": {},
   "outputs": [
    {
     "name": "stdout",
     "output_type": "stream",
     "text": [
      "0.32087227414330216\n"
     ]
    }
   ],
   "source": [
    "predicted =clf.predict(X_val_SpM)\n",
    "print(classification_report(df_val['label'], predicted))\n",
    "count=0\n",
    "for i in range(len(df_val['label'])):\n",
    "    if df_val['label'][i]==predicted[i]:\n",
    "        count+=1\n",
    "print(count/len(predicted))"
   ]
  },
  {
   "cell_type": "markdown",
   "metadata": {},
   "source": [
    "# MLP Classifier - Nueral Nets"
   ]
  },
  {
   "cell_type": "code",
   "execution_count": 378,
   "metadata": {},
   "outputs": [],
   "source": [
    "# SpMJ "
   ]
  },
  {
   "cell_type": "code",
   "execution_count": null,
   "metadata": {},
   "outputs": [],
   "source": [
    "# Multi Class"
   ]
  },
  {
   "cell_type": "code",
   "execution_count": 385,
   "metadata": {
    "scrolled": true
   },
   "outputs": [],
   "source": [
    "from sklearn.neural_network import MLPClassifier"
   ]
  },
  {
   "cell_type": "code",
   "execution_count": 377,
   "metadata": {},
   "outputs": [
    {
     "data": {
      "text/plain": [
       "MLPClassifier(activation='relu', alpha=1e-05, batch_size='auto', beta_1=0.9,\n",
       "              beta_2=0.999, early_stopping=False, epsilon=1e-08,\n",
       "              hidden_layer_sizes=(30,), learning_rate='constant',\n",
       "              learning_rate_init=0.001, max_iter=200, momentum=0.9,\n",
       "              n_iter_no_change=10, nesterovs_momentum=True, power_t=0.5,\n",
       "              random_state=1, shuffle=True, solver='lbfgs', tol=0.0001,\n",
       "              validation_fraction=0.1, verbose=False, warm_start=False)"
      ]
     },
     "execution_count": 377,
     "metadata": {},
     "output_type": "execute_result"
    }
   ],
   "source": [
    "mlpclf2 = clf = MLPClassifier(solver='lbfgs', alpha=1e-5,hidden_layer_sizes=(30,), random_state=1)\n",
    "mlpclf2.fit(X_train_SpMJ, df['label'])    "
   ]
  },
  {
   "cell_type": "code",
   "execution_count": 370,
   "metadata": {},
   "outputs": [
    {
     "name": "stdout",
     "output_type": "stream",
     "text": [
      "              precision    recall  f1-score   support\n",
      "\n",
      " barely-true       0.44      0.32      0.37       212\n",
      "       false       0.42      0.55      0.48       249\n",
      "   half-true       0.43      0.40      0.42       265\n",
      " mostly-true       0.36      0.63      0.46       241\n",
      "  pants-fire       0.62      0.49      0.55        92\n",
      "        true       0.81      0.17      0.28       208\n",
      "\n",
      "    accuracy                           0.43      1267\n",
      "   macro avg       0.51      0.43      0.42      1267\n",
      "weighted avg       0.49      0.43      0.42      1267\n",
      "\n",
      "0.4293606945540647\n"
     ]
    }
   ],
   "source": [
    "predicted =mlpclf2.predict(X_test_SpMJ.toarray())\n",
    "print(classification_report(df_test['label'], predicted))\n",
    "count=0\n",
    "for i in range(len(df_test['label'])):\n",
    "    if df_test['label'][i]==predicted[i]:\n",
    "        count+=1\n",
    "print(count/len(predicted))"
   ]
  },
  {
   "cell_type": "code",
   "execution_count": 371,
   "metadata": {},
   "outputs": [
    {
     "name": "stdout",
     "output_type": "stream",
     "text": [
      "              precision    recall  f1-score   support\n",
      "\n",
      " barely-true       0.55      0.37      0.44       237\n",
      "       false       0.44      0.51      0.47       263\n",
      "   half-true       0.40      0.43      0.41       248\n",
      " mostly-true       0.37      0.63      0.47       251\n",
      "  pants-fire       0.61      0.44      0.51       116\n",
      "        true       0.80      0.20      0.31       169\n",
      "\n",
      "    accuracy                           0.45      1284\n",
      "   macro avg       0.53      0.43      0.44      1284\n",
      "weighted avg       0.50      0.45      0.44      1284\n",
      "\n",
      "0.4454828660436137\n"
     ]
    }
   ],
   "source": [
    "predicted =mlpclf2.predict(X_val_SpMJ.toarray())\n",
    "print(classification_report(df_val['label'], predicted))\n",
    "count=0\n",
    "for i in range(len(df_val['label'])):\n",
    "    if df_val['label'][i]==predicted[i]:\n",
    "        count+=1\n",
    "print(count/len(predicted))"
   ]
  },
  {
   "cell_type": "code",
   "execution_count": 384,
   "metadata": {},
   "outputs": [],
   "source": [
    "# Binary Class"
   ]
  },
  {
   "cell_type": "code",
   "execution_count": 380,
   "metadata": {},
   "outputs": [
    {
     "data": {
      "text/plain": [
       "MLPClassifier(activation='relu', alpha=1e-05, batch_size='auto', beta_1=0.9,\n",
       "              beta_2=0.999, early_stopping=False, epsilon=1e-08,\n",
       "              hidden_layer_sizes=(30,), learning_rate='constant',\n",
       "              learning_rate_init=0.001, max_iter=200, momentum=0.9,\n",
       "              n_iter_no_change=10, nesterovs_momentum=True, power_t=0.5,\n",
       "              random_state=1, shuffle=True, solver='lbfgs', tol=0.0001,\n",
       "              validation_fraction=0.1, verbose=False, warm_start=False)"
      ]
     },
     "execution_count": 380,
     "metadata": {},
     "output_type": "execute_result"
    }
   ],
   "source": [
    "mlpclf2 = clf = MLPClassifier(solver='lbfgs', alpha=1e-5,hidden_layer_sizes=(30,), random_state=1)\n",
    "mlpclf2.fit(X_train_SpMJ, train_blabels_df['label'])    "
   ]
  },
  {
   "cell_type": "code",
   "execution_count": 382,
   "metadata": {},
   "outputs": [
    {
     "name": "stdout",
     "output_type": "stream",
     "text": [
      "              precision    recall  f1-score   support\n",
      "\n",
      "       false       0.69      0.94      0.80       794\n",
      "        true       0.75      0.30      0.43       473\n",
      "\n",
      "    accuracy                           0.70      1267\n",
      "   macro avg       0.72      0.62      0.62      1267\n",
      "weighted avg       0.71      0.70      0.66      1267\n",
      "\n",
      "0.7024467245461721\n"
     ]
    }
   ],
   "source": [
    "predicted =mlpclf2.predict(X_test_SpMJ.toarray())\n",
    "print(classification_report(test_blabels_df['label'], predicted))\n",
    "count=0\n",
    "for i in range(len(test_blabels_df['label'])):\n",
    "    if test_blabels_df['label'][i]==predicted[i]:\n",
    "        count+=1\n",
    "print(count/len(predicted))"
   ]
  },
  {
   "cell_type": "code",
   "execution_count": 383,
   "metadata": {},
   "outputs": [
    {
     "name": "stdout",
     "output_type": "stream",
     "text": [
      "              precision    recall  f1-score   support\n",
      "\n",
      "       false       0.75      0.94      0.83       867\n",
      "        true       0.73      0.34      0.47       417\n",
      "\n",
      "    accuracy                           0.74      1284\n",
      "   macro avg       0.74      0.64      0.65      1284\n",
      "weighted avg       0.74      0.74      0.71      1284\n",
      "\n",
      "0.7445482866043613\n"
     ]
    }
   ],
   "source": [
    "predicted =mlpclf2.predict(X_val_SpMJ.toarray())\n",
    "print(classification_report(val_blabels_df['label'], predicted))\n",
    "count=0\n",
    "for i in range(len(val_blabels_df['label'])):\n",
    "    if val_blabels_df['label'][i]==predicted[i]:\n",
    "        count+=1\n",
    "print(count/len(predicted))"
   ]
  },
  {
   "cell_type": "code",
   "execution_count": null,
   "metadata": {},
   "outputs": [],
   "source": [
    "# SpM"
   ]
  },
  {
   "cell_type": "code",
   "execution_count": 386,
   "metadata": {},
   "outputs": [],
   "source": [
    "# Multi class"
   ]
  },
  {
   "cell_type": "code",
   "execution_count": 387,
   "metadata": {},
   "outputs": [
    {
     "data": {
      "text/plain": [
       "MLPClassifier(activation='relu', alpha=1e-05, batch_size='auto', beta_1=0.9,\n",
       "              beta_2=0.999, early_stopping=False, epsilon=1e-08,\n",
       "              hidden_layer_sizes=(30,), learning_rate='constant',\n",
       "              learning_rate_init=0.001, max_iter=200, momentum=0.9,\n",
       "              n_iter_no_change=10, nesterovs_momentum=True, power_t=0.5,\n",
       "              random_state=1, shuffle=True, solver='lbfgs', tol=0.0001,\n",
       "              validation_fraction=0.1, verbose=False, warm_start=False)"
      ]
     },
     "execution_count": 387,
     "metadata": {},
     "output_type": "execute_result"
    }
   ],
   "source": [
    "mlpclf2 = MLPClassifier(solver='lbfgs', alpha=1e-5,hidden_layer_sizes=(30,), random_state=1)\n",
    "mlpclf2.fit(X_train_SpM, df['label'])    "
   ]
  },
  {
   "cell_type": "code",
   "execution_count": 388,
   "metadata": {},
   "outputs": [
    {
     "name": "stdout",
     "output_type": "stream",
     "text": [
      "              precision    recall  f1-score   support\n",
      "\n",
      " barely-true       0.40      0.40      0.40       212\n",
      "       false       0.53      0.45      0.48       249\n",
      "   half-true       0.35      0.62      0.45       265\n",
      " mostly-true       0.44      0.48      0.46       241\n",
      "  pants-fire       0.62      0.54      0.58        92\n",
      "        true       0.92      0.16      0.27       208\n",
      "\n",
      "    accuracy                           0.44      1267\n",
      "   macro avg       0.54      0.44      0.44      1267\n",
      "weighted avg       0.52      0.44      0.43      1267\n",
      "\n",
      "0.4404104183109708\n"
     ]
    }
   ],
   "source": [
    "predicted =mlpclf2.predict(X_test_SpM.toarray())\n",
    "print(classification_report(df_test['label'], predicted))\n",
    "count=0\n",
    "for i in range(len(df_test['label'])):\n",
    "    if df_test['label'][i]==predicted[i]:\n",
    "        count+=1\n",
    "print(count/len(predicted))"
   ]
  },
  {
   "cell_type": "code",
   "execution_count": 389,
   "metadata": {},
   "outputs": [
    {
     "name": "stdout",
     "output_type": "stream",
     "text": [
      "              precision    recall  f1-score   support\n",
      "\n",
      " barely-true       0.45      0.43      0.44       237\n",
      "       false       0.52      0.43      0.47       263\n",
      "   half-true       0.33      0.64      0.43       248\n",
      " mostly-true       0.47      0.47      0.47       251\n",
      "  pants-fire       0.62      0.45      0.52       116\n",
      "        true       0.97      0.18      0.31       169\n",
      "\n",
      "    accuracy                           0.45      1284\n",
      "   macro avg       0.56      0.43      0.44      1284\n",
      "weighted avg       0.53      0.45      0.44      1284\n",
      "\n",
      "0.4462616822429907\n"
     ]
    }
   ],
   "source": [
    "predicted =mlpclf2.predict(X_val_SpM.toarray())\n",
    "print(classification_report(df_val['label'], predicted))\n",
    "count=0\n",
    "for i in range(len(df_val['label'])):\n",
    "    if df_val['label'][i]==predicted[i]:\n",
    "        count+=1\n",
    "print(count/len(predicted))"
   ]
  },
  {
   "cell_type": "code",
   "execution_count": 390,
   "metadata": {},
   "outputs": [],
   "source": [
    "# Binary classification "
   ]
  },
  {
   "cell_type": "code",
   "execution_count": 391,
   "metadata": {},
   "outputs": [
    {
     "data": {
      "text/plain": [
       "MLPClassifier(activation='relu', alpha=1e-05, batch_size='auto', beta_1=0.9,\n",
       "              beta_2=0.999, early_stopping=False, epsilon=1e-08,\n",
       "              hidden_layer_sizes=(30,), learning_rate='constant',\n",
       "              learning_rate_init=0.001, max_iter=200, momentum=0.9,\n",
       "              n_iter_no_change=10, nesterovs_momentum=True, power_t=0.5,\n",
       "              random_state=1, shuffle=True, solver='lbfgs', tol=0.0001,\n",
       "              validation_fraction=0.1, verbose=False, warm_start=False)"
      ]
     },
     "execution_count": 391,
     "metadata": {},
     "output_type": "execute_result"
    }
   ],
   "source": [
    "mlpclf2 = MLPClassifier(solver='lbfgs', alpha=1e-5,hidden_layer_sizes=(30,), random_state=1)\n",
    "mlpclf2.fit(X_train_SpM, train_blabels_df['label'])    "
   ]
  },
  {
   "cell_type": "code",
   "execution_count": 392,
   "metadata": {},
   "outputs": [
    {
     "name": "stdout",
     "output_type": "stream",
     "text": [
      "              precision    recall  f1-score   support\n",
      "\n",
      "       false       0.69      0.95      0.80       794\n",
      "        true       0.77      0.30      0.43       473\n",
      "\n",
      "    accuracy                           0.70      1267\n",
      "   macro avg       0.73      0.62      0.62      1267\n",
      "weighted avg       0.72      0.70      0.66      1267\n",
      "\n",
      "0.7048145224940805\n"
     ]
    }
   ],
   "source": [
    "predicted =mlpclf2.predict(X_test_SpM.toarray())\n",
    "print(classification_report(test_blabels_df['label'], predicted))\n",
    "count=0\n",
    "for i in range(len(test_blabels_df['label'])):\n",
    "    if test_blabels_df['label'][i]==predicted[i]:\n",
    "        count+=1\n",
    "print(count/len(predicted))"
   ]
  },
  {
   "cell_type": "code",
   "execution_count": 393,
   "metadata": {},
   "outputs": [
    {
     "name": "stdout",
     "output_type": "stream",
     "text": [
      "              precision    recall  f1-score   support\n",
      "\n",
      "       false       0.74      0.95      0.83       867\n",
      "        true       0.74      0.32      0.44       417\n",
      "\n",
      "    accuracy                           0.74      1284\n",
      "   macro avg       0.74      0.63      0.64      1284\n",
      "weighted avg       0.74      0.74      0.71      1284\n",
      "\n",
      "0.7422118380062306\n"
     ]
    }
   ],
   "source": [
    "predicted =mlpclf2.predict(X_val_SpM.toarray())\n",
    "print(classification_report(val_blabels_df['label'], predicted))\n",
    "count=0\n",
    "for i in range(len(val_blabels_df['label'])):\n",
    "    if val_blabels_df['label'][i]==predicted[i]:\n",
    "        count+=1\n",
    "print(count/len(predicted))"
   ]
  },
  {
   "cell_type": "code",
   "execution_count": 394,
   "metadata": {},
   "outputs": [],
   "source": [
    "# SJ"
   ]
  },
  {
   "cell_type": "code",
   "execution_count": 395,
   "metadata": {},
   "outputs": [],
   "source": [
    "# Multi class"
   ]
  },
  {
   "cell_type": "code",
   "execution_count": 412,
   "metadata": {},
   "outputs": [
    {
     "data": {
      "text/plain": [
       "MLPClassifier(activation='relu', alpha=1e-05, batch_size='auto', beta_1=0.9,\n",
       "              beta_2=0.999, early_stopping=False, epsilon=1e-08,\n",
       "              hidden_layer_sizes=(15,), learning_rate='constant',\n",
       "              learning_rate_init=0.001, max_iter=200, momentum=0.9,\n",
       "              n_iter_no_change=10, nesterovs_momentum=True, power_t=0.5,\n",
       "              random_state=1, shuffle=True, solver='lbfgs', tol=0.0001,\n",
       "              validation_fraction=0.1, verbose=False, warm_start=False)"
      ]
     },
     "execution_count": 412,
     "metadata": {},
     "output_type": "execute_result"
    }
   ],
   "source": [
    "mlpclf2 = MLPClassifier(solver='lbfgs', alpha=1e-5,hidden_layer_sizes=(15,), random_state=1)\n",
    "mlpclf2.fit(X_train_SJ, df['label'])"
   ]
  },
  {
   "cell_type": "code",
   "execution_count": 413,
   "metadata": {},
   "outputs": [
    {
     "name": "stdout",
     "output_type": "stream",
     "text": [
      "              precision    recall  f1-score   support\n",
      "\n",
      " barely-true       0.22      0.17      0.19       212\n",
      "       false       0.22      0.22      0.22       249\n",
      "   half-true       0.23      0.25      0.24       265\n",
      " mostly-true       0.21      0.23      0.22       241\n",
      "  pants-fire       0.15      0.11      0.13        92\n",
      "        true       0.20      0.23      0.21       208\n",
      "\n",
      "    accuracy                           0.21      1267\n",
      "   macro avg       0.21      0.20      0.20      1267\n",
      "weighted avg       0.21      0.21      0.21      1267\n",
      "\n",
      "0.21310181531176006\n"
     ]
    }
   ],
   "source": [
    "predicted =mlpclf2.predict(X_test_SJ.toarray())\n",
    "print(classification_report(df_test['label'], predicted))\n",
    "count=0\n",
    "for i in range(len(df_test['label'])):\n",
    "    if df_test['label'][i]==predicted[i]:\n",
    "        count+=1\n",
    "print(count/len(predicted))"
   ]
  },
  {
   "cell_type": "code",
   "execution_count": 414,
   "metadata": {},
   "outputs": [
    {
     "name": "stdout",
     "output_type": "stream",
     "text": [
      "              precision    recall  f1-score   support\n",
      "\n",
      " barely-true       0.24      0.14      0.18       237\n",
      "       false       0.20      0.19      0.20       263\n",
      "   half-true       0.19      0.23      0.21       248\n",
      " mostly-true       0.27      0.31      0.29       251\n",
      "  pants-fire       0.17      0.12      0.14       116\n",
      "        true       0.18      0.24      0.20       169\n",
      "\n",
      "    accuracy                           0.21      1284\n",
      "   macro avg       0.21      0.21      0.20      1284\n",
      "weighted avg       0.22      0.21      0.21      1284\n",
      "\n",
      "0.21417445482866043\n"
     ]
    }
   ],
   "source": [
    "predicted =mlpclf2.predict(X_val_SJ.toarray())\n",
    "print(classification_report(df_val['label'], predicted))\n",
    "count=0\n",
    "for i in range(len(df_val['label'])):\n",
    "    if df_val['label'][i]==predicted[i]:\n",
    "        count+=1\n",
    "print(count/len(predicted))"
   ]
  },
  {
   "cell_type": "code",
   "execution_count": 399,
   "metadata": {},
   "outputs": [],
   "source": [
    "# Binary class"
   ]
  },
  {
   "cell_type": "code",
   "execution_count": 415,
   "metadata": {},
   "outputs": [
    {
     "data": {
      "text/plain": [
       "MLPClassifier(activation='relu', alpha=1e-05, batch_size='auto', beta_1=0.9,\n",
       "              beta_2=0.999, early_stopping=False, epsilon=1e-08,\n",
       "              hidden_layer_sizes=(15,), learning_rate='constant',\n",
       "              learning_rate_init=0.001, max_iter=200, momentum=0.9,\n",
       "              n_iter_no_change=10, nesterovs_momentum=True, power_t=0.5,\n",
       "              random_state=1, shuffle=True, solver='lbfgs', tol=0.0001,\n",
       "              validation_fraction=0.1, verbose=False, warm_start=False)"
      ]
     },
     "execution_count": 415,
     "metadata": {},
     "output_type": "execute_result"
    }
   ],
   "source": [
    "mlpclf2 = MLPClassifier(solver='lbfgs', alpha=1e-5,hidden_layer_sizes=(15,), random_state=1)\n",
    "mlpclf2.fit(X_train_SJ, train_blabels_df['label'])    "
   ]
  },
  {
   "cell_type": "code",
   "execution_count": 416,
   "metadata": {},
   "outputs": [
    {
     "name": "stdout",
     "output_type": "stream",
     "text": [
      "              precision    recall  f1-score   support\n",
      "\n",
      "       false       0.64      0.68      0.65       794\n",
      "        true       0.39      0.35      0.37       473\n",
      "\n",
      "    accuracy                           0.55      1267\n",
      "   macro avg       0.51      0.51      0.51      1267\n",
      "weighted avg       0.54      0.55      0.55      1267\n",
      "\n",
      "0.55327545382794\n"
     ]
    }
   ],
   "source": [
    "predicted =mlpclf2.predict(X_test_SJ.toarray())\n",
    "print(classification_report(test_blabels_df['label'], predicted))\n",
    "count=0\n",
    "for i in range(len(test_blabels_df['label'])):\n",
    "    if test_blabels_df['label'][i]==predicted[i]:\n",
    "        count+=1\n",
    "print(count/len(predicted))"
   ]
  },
  {
   "cell_type": "code",
   "execution_count": 417,
   "metadata": {},
   "outputs": [
    {
     "name": "stdout",
     "output_type": "stream",
     "text": [
      "              precision    recall  f1-score   support\n",
      "\n",
      "       false       0.70      0.72      0.71       867\n",
      "        true       0.38      0.36      0.37       417\n",
      "\n",
      "    accuracy                           0.60      1284\n",
      "   macro avg       0.54      0.54      0.54      1284\n",
      "weighted avg       0.60      0.60      0.60      1284\n",
      "\n",
      "0.6012461059190031\n"
     ]
    }
   ],
   "source": [
    "predicted =mlpclf2.predict(X_val_SJ.toarray())\n",
    "print(classification_report(val_blabels_df['label'], predicted))\n",
    "count=0\n",
    "for i in range(len(val_blabels_df['label'])):\n",
    "    if val_blabels_df['label'][i]==predicted[i]:\n",
    "        count+=1\n",
    "print(count/len(predicted))"
   ]
  },
  {
   "cell_type": "code",
   "execution_count": 418,
   "metadata": {},
   "outputs": [],
   "source": [
    "# S dataset"
   ]
  },
  {
   "cell_type": "code",
   "execution_count": 419,
   "metadata": {},
   "outputs": [],
   "source": [
    "# Multi class"
   ]
  },
  {
   "cell_type": "code",
   "execution_count": 426,
   "metadata": {},
   "outputs": [
    {
     "data": {
      "text/plain": [
       "MLPClassifier(activation='relu', alpha=1e-05, batch_size='auto', beta_1=0.9,\n",
       "              beta_2=0.999, early_stopping=False, epsilon=1e-08,\n",
       "              hidden_layer_sizes=(30,), learning_rate='constant',\n",
       "              learning_rate_init=0.001, max_iter=200, momentum=0.9,\n",
       "              n_iter_no_change=10, nesterovs_momentum=True, power_t=0.5,\n",
       "              random_state=1, shuffle=True, solver='lbfgs', tol=0.0001,\n",
       "              validation_fraction=0.1, verbose=False, warm_start=False)"
      ]
     },
     "execution_count": 426,
     "metadata": {},
     "output_type": "execute_result"
    }
   ],
   "source": [
    "mlpclf2 = MLPClassifier(solver='lbfgs', alpha=1e-5,hidden_layer_sizes=(30,), random_state=1)\n",
    "mlpclf2.fit(X_train_S, df['label'])"
   ]
  },
  {
   "cell_type": "code",
   "execution_count": 427,
   "metadata": {},
   "outputs": [
    {
     "name": "stdout",
     "output_type": "stream",
     "text": [
      "              precision    recall  f1-score   support\n",
      "\n",
      " barely-true       0.19      0.17      0.18       212\n",
      "       false       0.27      0.26      0.26       249\n",
      "   half-true       0.25      0.25      0.25       265\n",
      " mostly-true       0.23      0.24      0.23       241\n",
      "  pants-fire       0.12      0.13      0.12        92\n",
      "        true       0.19      0.20      0.20       208\n",
      "\n",
      "    accuracy                           0.22      1267\n",
      "   macro avg       0.21      0.21      0.21      1267\n",
      "weighted avg       0.22      0.22      0.22      1267\n",
      "\n",
      "0.21941594317284924\n"
     ]
    }
   ],
   "source": [
    "predicted =mlpclf2.predict(X_test_S.toarray())\n",
    "print(classification_report(df_test['label'], predicted))\n",
    "count=0\n",
    "for i in range(len(df_test['label'])):\n",
    "    if df_test['label'][i]==predicted[i]:\n",
    "        count+=1\n",
    "print(count/len(predicted))"
   ]
  },
  {
   "cell_type": "code",
   "execution_count": 428,
   "metadata": {},
   "outputs": [
    {
     "name": "stdout",
     "output_type": "stream",
     "text": [
      "              precision    recall  f1-score   support\n",
      "\n",
      " barely-true       0.22      0.18      0.19       237\n",
      "       false       0.26      0.26      0.26       263\n",
      "   half-true       0.20      0.23      0.21       248\n",
      " mostly-true       0.26      0.27      0.26       251\n",
      "  pants-fire       0.23      0.20      0.21       116\n",
      "        true       0.21      0.24      0.22       169\n",
      "\n",
      "    accuracy                           0.23      1284\n",
      "   macro avg       0.23      0.23      0.23      1284\n",
      "weighted avg       0.23      0.23      0.23      1284\n",
      "\n",
      "0.23052959501557632\n"
     ]
    }
   ],
   "source": [
    "predicted =mlpclf2.predict(X_val_S.toarray())\n",
    "print(classification_report(df_val['label'], predicted))\n",
    "count=0\n",
    "for i in range(len(df_val['label'])):\n",
    "    if df_val['label'][i]==predicted[i]:\n",
    "        count+=1\n",
    "print(count/len(predicted))"
   ]
  },
  {
   "cell_type": "code",
   "execution_count": 429,
   "metadata": {},
   "outputs": [],
   "source": [
    "# Binary class"
   ]
  },
  {
   "cell_type": "code",
   "execution_count": 436,
   "metadata": {},
   "outputs": [
    {
     "data": {
      "text/plain": [
       "MLPClassifier(activation='relu', alpha=1e-05, batch_size='auto', beta_1=0.9,\n",
       "              beta_2=0.999, early_stopping=False, epsilon=1e-08,\n",
       "              hidden_layer_sizes=(30,), learning_rate='constant',\n",
       "              learning_rate_init=0.001, max_iter=200, momentum=0.9,\n",
       "              n_iter_no_change=10, nesterovs_momentum=True, power_t=0.5,\n",
       "              random_state=1, shuffle=True, solver='lbfgs', tol=0.0001,\n",
       "              validation_fraction=0.1, verbose=False, warm_start=False)"
      ]
     },
     "execution_count": 436,
     "metadata": {},
     "output_type": "execute_result"
    }
   ],
   "source": [
    "mlpclf2 = MLPClassifier(solver='lbfgs', alpha=1e-5,hidden_layer_sizes=(30,), random_state=1)\n",
    "mlpclf2.fit(X_train_S, train_blabels_df['label'])"
   ]
  },
  {
   "cell_type": "code",
   "execution_count": 437,
   "metadata": {},
   "outputs": [
    {
     "name": "stdout",
     "output_type": "stream",
     "text": [
      "              precision    recall  f1-score   support\n",
      "\n",
      "       false       0.65      0.65      0.65       794\n",
      "        true       0.41      0.40      0.40       473\n",
      "\n",
      "    accuracy                           0.56      1267\n",
      "   macro avg       0.53      0.53      0.53      1267\n",
      "weighted avg       0.56      0.56      0.56      1267\n",
      "\n",
      "0.5580110497237569\n"
     ]
    }
   ],
   "source": [
    "predicted =mlpclf2.predict(X_test_S.toarray())\n",
    "print(classification_report(test_blabels_df['label'], predicted))\n",
    "count=0\n",
    "for i in range(len(test_blabels_df['label'])):\n",
    "    if test_blabels_df['label'][i]==predicted[i]:\n",
    "        count+=1\n",
    "print(count/len(predicted))"
   ]
  },
  {
   "cell_type": "code",
   "execution_count": 438,
   "metadata": {},
   "outputs": [
    {
     "name": "stdout",
     "output_type": "stream",
     "text": [
      "              precision    recall  f1-score   support\n",
      "\n",
      "       false       0.69      0.67      0.68       867\n",
      "        true       0.36      0.38      0.37       417\n",
      "\n",
      "    accuracy                           0.58      1284\n",
      "   macro avg       0.53      0.53      0.53      1284\n",
      "weighted avg       0.59      0.58      0.58      1284\n",
      "\n",
      "0.5794392523364486\n"
     ]
    }
   ],
   "source": [
    "predicted =mlpclf2.predict(X_val_S.toarray())\n",
    "print(classification_report(val_blabels_df['label'], predicted))\n",
    "count=0\n",
    "for i in range(len(val_blabels_df['label'])):\n",
    "    if val_blabels_df['label'][i]==predicted[i]:\n",
    "        count+=1\n",
    "print(count/len(predicted))"
   ]
  },
  {
   "cell_type": "code",
   "execution_count": null,
   "metadata": {},
   "outputs": [],
   "source": []
  },
  {
   "cell_type": "markdown",
   "metadata": {},
   "source": [
    "# Ensemble Learning"
   ]
  },
  {
   "cell_type": "code",
   "execution_count": 136,
   "metadata": {},
   "outputs": [],
   "source": [
    "from sklearn.metrics import classification_report"
   ]
  },
  {
   "cell_type": "code",
   "execution_count": 125,
   "metadata": {},
   "outputs": [],
   "source": [
    "from sklearn.ensemble import RandomForestClassifier, VotingClassifier\n",
    "from sklearn.naive_bayes import GaussianNB\n",
    "from sklearn.svm import SVC\n",
    "from sklearn.naive_bayes import MultinomialNB"
   ]
  },
  {
   "cell_type": "code",
   "execution_count": 126,
   "metadata": {},
   "outputs": [],
   "source": [
    "clf1 = LinearSVC(random_state=0, tol=1e-5)\n",
    "# clf1 = SVC(gamma=1.7, kernel='rbf', random_state=42, probability=True)\n",
    "clf2 = LogisticRegression(random_state=0, solver='lbfgs',multi_class='multinomial')\n",
    "# clf2 = LogisticRegression(C=0.0001, random_state=42, n_jobs=-1)\n",
    "clf3 = RandomForestClassifier(n_estimators=50, random_state=1)\n",
    "clf4 = GaussianNB()\n",
    "# clf4 = MultinomialNB(alpha=1.9)\n",
    "# clf5 = SVC(kernel='linear')"
   ]
  },
  {
   "cell_type": "code",
   "execution_count": 127,
   "metadata": {},
   "outputs": [],
   "source": [
    "eclf1 = VotingClassifier(estimators=[('svm', clf1), ('lr', clf2),('rf', clf3), ('gnb', clf4)], voting='hard')\n",
    "# eclf_try = VotingClassifier(estimators=[('svm', clf1), ('lr', clf2), ('gnb', clf4)], voting='soft')"
   ]
  },
  {
   "cell_type": "code",
   "execution_count": 128,
   "metadata": {},
   "outputs": [
    {
     "name": "stderr",
     "output_type": "stream",
     "text": [
      "/home/shreyash15097/.local/lib/python3.6/site-packages/sklearn/svm/base.py:929: ConvergenceWarning: Liblinear failed to converge, increase the number of iterations.\n",
      "  \"the number of iterations.\", ConvergenceWarning)\n",
      "/home/shreyash15097/.local/lib/python3.6/site-packages/sklearn/linear_model/logistic.py:947: ConvergenceWarning: lbfgs failed to converge. Increase the number of iterations.\n",
      "  \"of iterations.\", ConvergenceWarning)\n"
     ]
    }
   ],
   "source": [
    "# eclf_try = eclf_try.fit(X_train_SpMJ.toarray(), df['label'])"
   ]
  },
  {
   "cell_type": "markdown",
   "metadata": {},
   "source": [
    "# SpM"
   ]
  },
  {
   "cell_type": "code",
   "execution_count": 130,
   "metadata": {},
   "outputs": [],
   "source": [
    "#Binary"
   ]
  },
  {
   "cell_type": "code",
   "execution_count": null,
   "metadata": {},
   "outputs": [],
   "source": [
    "eclf1 = eclf1.fit(X_train_SpM.toarray(), train_blabels_df['label'])"
   ]
  },
  {
   "cell_type": "code",
   "execution_count": 131,
   "metadata": {},
   "outputs": [
    {
     "name": "stdout",
     "output_type": "stream",
     "text": [
      "0.6503551696921863\n"
     ]
    }
   ],
   "source": [
    "predicted =eclf1.predict(X_test_SpM.toarray())\n",
    "count=0\n",
    "for i in range(len(test_blabels_df['label'])):\n",
    "    if test_blabels_df['label'][i]==predicted[i]:\n",
    "        count+=1\n",
    "print(count/len(predicted))"
   ]
  },
  {
   "cell_type": "code",
   "execution_count": 132,
   "metadata": {},
   "outputs": [
    {
     "name": "stdout",
     "output_type": "stream",
     "text": [
      "0.6978193146417445\n"
     ]
    }
   ],
   "source": [
    "predicted =eclf1.predict(X_val_SpM.toarray())\n",
    "count=0\n",
    "for i in range(len(val_blabels_df['label'])):\n",
    "    if val_blabels_df['label'][i]==predicted[i]:\n",
    "        count+=1\n",
    "print(count/len(predicted))"
   ]
  },
  {
   "cell_type": "code",
   "execution_count": null,
   "metadata": {},
   "outputs": [],
   "source": [
    "# Multi"
   ]
  },
  {
   "cell_type": "code",
   "execution_count": null,
   "metadata": {},
   "outputs": [],
   "source": [
    "eclf1 = eclf1.fit(X_train_SpM.toarray(), df['label'])"
   ]
  },
  {
   "cell_type": "code",
   "execution_count": 346,
   "metadata": {},
   "outputs": [
    {
     "name": "stdout",
     "output_type": "stream",
     "text": [
      "0.3330702446724546\n"
     ]
    }
   ],
   "source": [
    "predicted =eclf1.predict(X_test_SpM.toarray())\n",
    "count=0\n",
    "for i in range(len(df_test['label'])):\n",
    "    if df_test['label'][i]==predicted[i]:\n",
    "        count+=1\n",
    "print(count/len(predicted))"
   ]
  },
  {
   "cell_type": "code",
   "execution_count": 347,
   "metadata": {},
   "outputs": [
    {
     "name": "stdout",
     "output_type": "stream",
     "text": [
      "0.352803738317757\n"
     ]
    }
   ],
   "source": [
    "predicted =eclf1.predict(X_val_SpM.toarray())\n",
    "count=0\n",
    "for i in range(len(df_val['label'])):\n",
    "    if df_val['label'][i]==predicted[i]:\n",
    "        count+=1\n",
    "print(count/len(predicted))"
   ]
  },
  {
   "cell_type": "markdown",
   "metadata": {},
   "source": [
    "# SpMJ"
   ]
  },
  {
   "cell_type": "code",
   "execution_count": 134,
   "metadata": {},
   "outputs": [],
   "source": [
    "# Binary"
   ]
  },
  {
   "cell_type": "code",
   "execution_count": 135,
   "metadata": {},
   "outputs": [
    {
     "name": "stderr",
     "output_type": "stream",
     "text": [
      "/home/shreyash15097/.local/lib/python3.6/site-packages/sklearn/svm/base.py:929: ConvergenceWarning: Liblinear failed to converge, increase the number of iterations.\n",
      "  \"the number of iterations.\", ConvergenceWarning)\n",
      "/home/shreyash15097/.local/lib/python3.6/site-packages/sklearn/linear_model/logistic.py:947: ConvergenceWarning: lbfgs failed to converge. Increase the number of iterations.\n",
      "  \"of iterations.\", ConvergenceWarning)\n"
     ]
    }
   ],
   "source": [
    "eclf1 = eclf1.fit(X_train_SpMJ.toarray(), train_blabels_df['label'])"
   ]
  },
  {
   "cell_type": "code",
   "execution_count": 137,
   "metadata": {},
   "outputs": [
    {
     "name": "stdout",
     "output_type": "stream",
     "text": [
      "              precision    recall  f1-score   support\n",
      "\n",
      "       false       0.63      0.97      0.77       794\n",
      "        true       0.52      0.06      0.11       473\n",
      "\n",
      "    accuracy                           0.63      1267\n",
      "   macro avg       0.58      0.51      0.44      1267\n",
      "weighted avg       0.59      0.63      0.52      1267\n",
      "\n",
      "0.6282557221783741\n"
     ]
    }
   ],
   "source": [
    "predicted =eclf1.predict(X_test_SpMJ.toarray())\n",
    "print(classification_report(test_blabels_df['label'], predicted))\n",
    "count=0\n",
    "for i in range(len(test_blabels_df['label'])):\n",
    "    if test_blabels_df['label'][i]==predicted[i]:\n",
    "        count+=1\n",
    "print(count/len(predicted))"
   ]
  },
  {
   "cell_type": "code",
   "execution_count": 138,
   "metadata": {},
   "outputs": [
    {
     "name": "stdout",
     "output_type": "stream",
     "text": [
      "              precision    recall  f1-score   support\n",
      "\n",
      "       false       0.69      0.96      0.81       867\n",
      "        true       0.59      0.11      0.18       417\n",
      "\n",
      "    accuracy                           0.69      1284\n",
      "   macro avg       0.64      0.53      0.49      1284\n",
      "weighted avg       0.66      0.69      0.60      1284\n",
      "\n",
      "0.6853582554517134\n"
     ]
    }
   ],
   "source": [
    "predicted =eclf1.predict(X_val_SpMJ.toarray())\n",
    "print(classification_report(val_blabels_df['label'], predicted))\n",
    "count=0\n",
    "for i in range(len(val_blabels_df['label'])):\n",
    "    if val_blabels_df['label'][i]==predicted[i]:\n",
    "        count+=1\n",
    "print(count/len(predicted))"
   ]
  },
  {
   "cell_type": "code",
   "execution_count": null,
   "metadata": {},
   "outputs": [],
   "source": [
    "# Multi"
   ]
  },
  {
   "cell_type": "code",
   "execution_count": 349,
   "metadata": {},
   "outputs": [
    {
     "name": "stderr",
     "output_type": "stream",
     "text": [
      "/home/shreyash15097/.local/lib/python3.6/site-packages/sklearn/svm/base.py:929: ConvergenceWarning: Liblinear failed to converge, increase the number of iterations.\n",
      "  \"the number of iterations.\", ConvergenceWarning)\n",
      "/home/shreyash15097/.local/lib/python3.6/site-packages/sklearn/linear_model/logistic.py:947: ConvergenceWarning: lbfgs failed to converge. Increase the number of iterations.\n",
      "  \"of iterations.\", ConvergenceWarning)\n"
     ]
    }
   ],
   "source": [
    "eclf1 = eclf1.fit(X_train_SpMJ.toarray(), df['label'])"
   ]
  },
  {
   "cell_type": "code",
   "execution_count": 355,
   "metadata": {},
   "outputs": [
    {
     "name": "stdout",
     "output_type": "stream",
     "text": [
      "              precision    recall  f1-score   support\n",
      "\n",
      " barely-true       0.23      0.25      0.24       212\n",
      "       false       0.29      0.37      0.32       249\n",
      "   half-true       0.30      0.44      0.36       265\n",
      " mostly-true       0.35      0.36      0.35       241\n",
      "  pants-fire       0.46      0.12      0.19        92\n",
      "        true       0.25      0.08      0.12       208\n",
      "\n",
      "    accuracy                           0.30      1267\n",
      "   macro avg       0.31      0.27      0.26      1267\n",
      "weighted avg       0.30      0.30      0.28      1267\n",
      "\n",
      "0.2959747434885556\n"
     ]
    }
   ],
   "source": [
    "predicted =eclf1.predict(X_test_SpMJ.toarray())\n",
    "print(classification_report(df_test['label'], predicted))\n",
    "count=0\n",
    "for i in range(len(df_test['label'])):\n",
    "    if df_test['label'][i]==predicted[i]:\n",
    "        count+=1\n",
    "print(count/len(predicted))"
   ]
  },
  {
   "cell_type": "code",
   "execution_count": 356,
   "metadata": {},
   "outputs": [
    {
     "name": "stdout",
     "output_type": "stream",
     "text": [
      "              precision    recall  f1-score   support\n",
      "\n",
      " barely-true       0.32      0.31      0.31       237\n",
      "       false       0.36      0.42      0.39       263\n",
      "   half-true       0.34      0.55      0.42       248\n",
      " mostly-true       0.45      0.45      0.45       251\n",
      "  pants-fire       0.61      0.22      0.32       116\n",
      "        true       0.33      0.11      0.16       169\n",
      "\n",
      "    accuracy                           0.37      1284\n",
      "   macro avg       0.40      0.34      0.34      1284\n",
      "weighted avg       0.39      0.37      0.36      1284\n",
      "\n",
      "0.37149532710280375\n"
     ]
    }
   ],
   "source": [
    "predicted =eclf1.predict(X_val_SpMJ.toarray())\n",
    "print(classification_report(df_val['label'], predicted))\n",
    "count=0\n",
    "for i in range(len(df_val['label'])):\n",
    "    if df_val['label'][i]==predicted[i]:\n",
    "        count+=1\n",
    "print(count/len(predicted))"
   ]
  },
  {
   "cell_type": "markdown",
   "metadata": {},
   "source": [
    "# SJ"
   ]
  },
  {
   "cell_type": "code",
   "execution_count": 140,
   "metadata": {},
   "outputs": [],
   "source": [
    "# Binary"
   ]
  },
  {
   "cell_type": "code",
   "execution_count": 141,
   "metadata": {},
   "outputs": [],
   "source": [
    "eclf1 = eclf1.fit(X_train_SJ.toarray(), train_blabels_df['label'])"
   ]
  },
  {
   "cell_type": "code",
   "execution_count": 142,
   "metadata": {},
   "outputs": [
    {
     "name": "stdout",
     "output_type": "stream",
     "text": [
      "              precision    recall  f1-score   support\n",
      "\n",
      "       false       0.63      0.92      0.75       794\n",
      "        true       0.38      0.08      0.13       473\n",
      "\n",
      "    accuracy                           0.61      1267\n",
      "   macro avg       0.50      0.50      0.44      1267\n",
      "weighted avg       0.53      0.61      0.52      1267\n",
      "\n",
      "0.6077348066298343\n"
     ]
    }
   ],
   "source": [
    "predicted =eclf1.predict(X_test_SJ.toarray())\n",
    "print(classification_report(test_blabels_df['label'], predicted))\n",
    "count=0\n",
    "for i in range(len(test_blabels_df['label'])):\n",
    "    if test_blabels_df['label'][i]==predicted[i]:\n",
    "        count+=1\n",
    "print(count/len(predicted))"
   ]
  },
  {
   "cell_type": "code",
   "execution_count": 143,
   "metadata": {},
   "outputs": [
    {
     "name": "stdout",
     "output_type": "stream",
     "text": [
      "              precision    recall  f1-score   support\n",
      "\n",
      "       false       0.68      0.92      0.78       867\n",
      "        true       0.42      0.12      0.19       417\n",
      "\n",
      "    accuracy                           0.66      1284\n",
      "   macro avg       0.55      0.52      0.49      1284\n",
      "weighted avg       0.60      0.66      0.59      1284\n",
      "\n",
      "0.6596573208722741\n"
     ]
    }
   ],
   "source": [
    "predicted =eclf1.predict(X_val_SJ.toarray())\n",
    "print(classification_report(val_blabels_df['label'], predicted))\n",
    "count=0\n",
    "for i in range(len(val_blabels_df['label'])):\n",
    "    if val_blabels_df['label'][i]==predicted[i]:\n",
    "        count+=1\n",
    "print(count/len(predicted))"
   ]
  },
  {
   "cell_type": "code",
   "execution_count": 144,
   "metadata": {},
   "outputs": [],
   "source": [
    "# Multi"
   ]
  },
  {
   "cell_type": "code",
   "execution_count": 145,
   "metadata": {},
   "outputs": [
    {
     "name": "stderr",
     "output_type": "stream",
     "text": [
      "/home/shreyash15097/.local/lib/python3.6/site-packages/sklearn/linear_model/logistic.py:947: ConvergenceWarning: lbfgs failed to converge. Increase the number of iterations.\n",
      "  \"of iterations.\", ConvergenceWarning)\n"
     ]
    }
   ],
   "source": [
    "eclf1 = eclf1.fit(X_train_SJ.toarray(), df['label'])"
   ]
  },
  {
   "cell_type": "code",
   "execution_count": 146,
   "metadata": {},
   "outputs": [
    {
     "name": "stdout",
     "output_type": "stream",
     "text": [
      "              precision    recall  f1-score   support\n",
      "\n",
      " barely-true       0.24      0.20      0.22       212\n",
      "       false       0.23      0.33      0.27       249\n",
      "   half-true       0.25      0.32      0.28       265\n",
      " mostly-true       0.21      0.23      0.22       241\n",
      "  pants-fire       0.75      0.03      0.06        92\n",
      "        true       0.18      0.11      0.14       208\n",
      "\n",
      "    accuracy                           0.23      1267\n",
      "   macro avg       0.31      0.20      0.20      1267\n",
      "weighted avg       0.26      0.23      0.22      1267\n",
      "\n",
      "0.22888713496448304\n"
     ]
    }
   ],
   "source": [
    "predicted =eclf1.predict(X_test_SJ.toarray())\n",
    "print(classification_report(df_test['label'], predicted))\n",
    "count=0\n",
    "for i in range(len(df_test['label'])):\n",
    "    if df_test['label'][i]==predicted[i]:\n",
    "        count+=1\n",
    "print(count/len(predicted))"
   ]
  },
  {
   "cell_type": "code",
   "execution_count": 147,
   "metadata": {},
   "outputs": [
    {
     "name": "stdout",
     "output_type": "stream",
     "text": [
      "              precision    recall  f1-score   support\n",
      "\n",
      " barely-true       0.25      0.20      0.22       237\n",
      "       false       0.26      0.34      0.30       263\n",
      "   half-true       0.24      0.33      0.28       248\n",
      " mostly-true       0.28      0.29      0.29       251\n",
      "  pants-fire       0.30      0.03      0.05       116\n",
      "        true       0.17      0.14      0.15       169\n",
      "\n",
      "    accuracy                           0.25      1284\n",
      "   macro avg       0.25      0.22      0.21      1284\n",
      "weighted avg       0.25      0.25      0.23      1284\n",
      "\n",
      "0.24766355140186916\n"
     ]
    }
   ],
   "source": [
    "predicted =eclf1.predict(X_val_SJ.toarray())\n",
    "print(classification_report(df_val['label'], predicted))\n",
    "count=0\n",
    "for i in range(len(df_val['label'])):\n",
    "    if df_val['label'][i]==predicted[i]:\n",
    "        count+=1\n",
    "print(count/len(predicted))"
   ]
  },
  {
   "cell_type": "markdown",
   "metadata": {},
   "source": [
    "# S"
   ]
  },
  {
   "cell_type": "code",
   "execution_count": 149,
   "metadata": {},
   "outputs": [],
   "source": [
    "# Binary"
   ]
  },
  {
   "cell_type": "code",
   "execution_count": 150,
   "metadata": {},
   "outputs": [
    {
     "name": "stderr",
     "output_type": "stream",
     "text": [
      "/home/shreyash15097/.local/lib/python3.6/site-packages/sklearn/linear_model/logistic.py:947: ConvergenceWarning: lbfgs failed to converge. Increase the number of iterations.\n",
      "  \"of iterations.\", ConvergenceWarning)\n"
     ]
    }
   ],
   "source": [
    "eclf1 = eclf1.fit(X_train_S.toarray(), train_blabels_df['label'])"
   ]
  },
  {
   "cell_type": "code",
   "execution_count": 151,
   "metadata": {},
   "outputs": [
    {
     "name": "stdout",
     "output_type": "stream",
     "text": [
      "              precision    recall  f1-score   support\n",
      "\n",
      "       false       0.65      0.77      0.70       794\n",
      "        true       0.43      0.29      0.35       473\n",
      "\n",
      "    accuracy                           0.59      1267\n",
      "   macro avg       0.54      0.53      0.52      1267\n",
      "weighted avg       0.56      0.59      0.57      1267\n",
      "\n",
      "0.590370955011839\n"
     ]
    }
   ],
   "source": [
    "predicted =eclf1.predict(X_test_S.toarray())\n",
    "print(classification_report(test_blabels_df['label'], predicted))\n",
    "count=0\n",
    "for i in range(len(test_blabels_df['label'])):\n",
    "    if test_blabels_df['label'][i]==predicted[i]:\n",
    "        count+=1\n",
    "print(count/len(predicted))"
   ]
  },
  {
   "cell_type": "code",
   "execution_count": 152,
   "metadata": {},
   "outputs": [
    {
     "name": "stdout",
     "output_type": "stream",
     "text": [
      "              precision    recall  f1-score   support\n",
      "\n",
      "       false       0.71      0.81      0.75       867\n",
      "        true       0.44      0.31      0.36       417\n",
      "\n",
      "    accuracy                           0.65      1284\n",
      "   macro avg       0.57      0.56      0.56      1284\n",
      "weighted avg       0.62      0.65      0.63      1284\n",
      "\n",
      "0.6456386292834891\n"
     ]
    }
   ],
   "source": [
    "predicted =eclf1.predict(X_val_S.toarray())\n",
    "print(classification_report(val_blabels_df['label'], predicted))\n",
    "count=0\n",
    "for i in range(len(val_blabels_df['label'])):\n",
    "    if val_blabels_df['label'][i]==predicted[i]:\n",
    "        count+=1\n",
    "print(count/len(predicted))"
   ]
  },
  {
   "cell_type": "code",
   "execution_count": 153,
   "metadata": {},
   "outputs": [],
   "source": [
    "# Multi"
   ]
  },
  {
   "cell_type": "code",
   "execution_count": 154,
   "metadata": {},
   "outputs": [
    {
     "name": "stderr",
     "output_type": "stream",
     "text": [
      "/home/shreyash15097/.local/lib/python3.6/site-packages/sklearn/linear_model/logistic.py:947: ConvergenceWarning: lbfgs failed to converge. Increase the number of iterations.\n",
      "  \"of iterations.\", ConvergenceWarning)\n"
     ]
    }
   ],
   "source": [
    "eclf1 = eclf1.fit(X_train_S.toarray(), df['label'])"
   ]
  },
  {
   "cell_type": "code",
   "execution_count": 155,
   "metadata": {},
   "outputs": [
    {
     "name": "stdout",
     "output_type": "stream",
     "text": [
      "              precision    recall  f1-score   support\n",
      "\n",
      " barely-true       0.22      0.23      0.23       212\n",
      "       false       0.25      0.28      0.27       249\n",
      "   half-true       0.27      0.26      0.26       265\n",
      " mostly-true       0.23      0.23      0.23       241\n",
      "  pants-fire       0.15      0.11      0.13        92\n",
      "        true       0.21      0.21      0.21       208\n",
      "\n",
      "    accuracy                           0.23      1267\n",
      "   macro avg       0.22      0.22      0.22      1267\n",
      "weighted avg       0.23      0.23      0.23      1267\n",
      "\n",
      "0.23441199684293607\n"
     ]
    }
   ],
   "source": [
    "predicted =eclf1.predict(X_test_S.toarray())\n",
    "print(classification_report(df_test['label'], predicted))\n",
    "count=0\n",
    "for i in range(len(df_test['label'])):\n",
    "    if df_test['label'][i]==predicted[i]:\n",
    "        count+=1\n",
    "print(count/len(predicted))"
   ]
  },
  {
   "cell_type": "code",
   "execution_count": 156,
   "metadata": {},
   "outputs": [
    {
     "name": "stdout",
     "output_type": "stream",
     "text": [
      "              precision    recall  f1-score   support\n",
      "\n",
      " barely-true       0.24      0.23      0.24       237\n",
      "       false       0.27      0.32      0.29       263\n",
      "   half-true       0.22      0.21      0.21       248\n",
      " mostly-true       0.30      0.29      0.29       251\n",
      "  pants-fire       0.28      0.19      0.23       116\n",
      "        true       0.21      0.24      0.22       169\n",
      "\n",
      "    accuracy                           0.25      1284\n",
      "   macro avg       0.25      0.25      0.25      1284\n",
      "weighted avg       0.25      0.25      0.25      1284\n",
      "\n",
      "0.2523364485981308\n"
     ]
    }
   ],
   "source": [
    "predicted =eclf1.predict(X_val_S.toarray())\n",
    "print(classification_report(df_val['label'], predicted))\n",
    "count=0\n",
    "for i in range(len(df_val['label'])):\n",
    "    if df_val['label'][i]==predicted[i]:\n",
    "        count+=1\n",
    "print(count/len(predicted))"
   ]
  },
  {
   "cell_type": "markdown",
   "metadata": {},
   "source": [
    "# Doc2Vec"
   ]
  },
  {
   "cell_type": "code",
   "execution_count": 177,
   "metadata": {},
   "outputs": [],
   "source": [
    "tqdm.pandas(desc=\"progress-bar\")\n",
    "from gensim.models import Doc2Vec\n",
    "from sklearn import utils\n",
    "from sklearn.model_selection import train_test_split\n",
    "from gensim.models import doc2vec\n",
    "import gensim\n",
    "from gensim.models.doc2vec import TaggedDocument\n",
    "import re\n",
    "import seaborn as sns\n",
    "import matplotlib.pyplot as plt"
   ]
  },
  {
   "cell_type": "code",
   "execution_count": 192,
   "metadata": {},
   "outputs": [],
   "source": [
    "filepath = 'LIAR-PLUS/dataset/train2.tsv'\n",
    "filepath_test = 'LIAR-PLUS/dataset/test2.tsv'\n",
    "filepath_val = 'LIAR-PLUS/dataset/val2.tsv'"
   ]
  },
  {
   "cell_type": "code",
   "execution_count": 193,
   "metadata": {},
   "outputs": [],
   "source": [
    "df_train = pd.read_csv(filepath, usecols=[2,3,9,10,11,12,13,15], names=['label', 'statement','barely_true_count','false_count','half_true_count','mostly_true_count','pof_count','justification'], header=None, delimiter='\\t')\n",
    "df_test = pd.read_csv(filepath_test, usecols=[2,3,9,10,11,12,13,15], names=['label', 'statement','barely_true_count','false_count','half_true_count','mostly_true_count','pof_count','justification'], header=None, delimiter='\\t')\n",
    "df_val = pd.read_csv(filepath_val, usecols=[2,3,9,10,11,12,13,15], names=['label', 'statement','barely_true_count','false_count','half_true_count','mostly_true_count','pof_count','justification'], header=None, delimiter='\\t')"
   ]
  },
  {
   "cell_type": "code",
   "execution_count": 180,
   "metadata": {},
   "outputs": [
    {
     "data": {
      "text/plain": [
       "label                 0\n",
       "statement             0\n",
       "barely_true_count     2\n",
       "false_count           2\n",
       "half_true_count       2\n",
       "mostly_true_count     2\n",
       "pof_count             2\n",
       "justification        84\n",
       "dtype: int64"
      ]
     },
     "execution_count": 180,
     "metadata": {},
     "output_type": "execute_result"
    }
   ],
   "source": [
    "df_train.isnull().sum()"
   ]
  },
  {
   "cell_type": "code",
   "execution_count": 181,
   "metadata": {},
   "outputs": [],
   "source": [
    "df_train = df_train[pd.notnull(df_train['barely_true_count'])]\n",
    "df_train = df_train[pd.notnull(df_train['justification'])]"
   ]
  },
  {
   "cell_type": "code",
   "execution_count": 182,
   "metadata": {},
   "outputs": [
    {
     "data": {
      "text/plain": [
       "label                0\n",
       "statement            0\n",
       "barely_true_count    0\n",
       "false_count          0\n",
       "half_true_count      0\n",
       "mostly_true_count    0\n",
       "pof_count            0\n",
       "justification        9\n",
       "dtype: int64"
      ]
     },
     "execution_count": 182,
     "metadata": {},
     "output_type": "execute_result"
    }
   ],
   "source": [
    "df_test.isnull().sum()"
   ]
  },
  {
   "cell_type": "code",
   "execution_count": 183,
   "metadata": {},
   "outputs": [],
   "source": [
    "df_test = df_test[pd.notnull(df_test['justification'])]"
   ]
  },
  {
   "cell_type": "code",
   "execution_count": 184,
   "metadata": {},
   "outputs": [
    {
     "data": {
      "text/plain": [
       "label                0\n",
       "statement            0\n",
       "barely_true_count    0\n",
       "false_count          0\n",
       "half_true_count      0\n",
       "mostly_true_count    0\n",
       "pof_count            0\n",
       "justification        4\n",
       "dtype: int64"
      ]
     },
     "execution_count": 184,
     "metadata": {},
     "output_type": "execute_result"
    }
   ],
   "source": [
    "df_val.isnull().sum()"
   ]
  },
  {
   "cell_type": "code",
   "execution_count": 185,
   "metadata": {},
   "outputs": [],
   "source": [
    "df_val = df_val[pd.notnull(df_val['justification'])]"
   ]
  },
  {
   "cell_type": "code",
   "execution_count": 186,
   "metadata": {},
   "outputs": [
    {
     "data": {
      "image/png": "[encoded data removed]",
      "text/plain": [
       "<Figure size 864x288 with 1 Axes>"
      ]
     },
     "metadata": {
      "needs_background": "light"
     },
     "output_type": "display_data"
    }
   ],
   "source": [
    "cnt_pro = df_train['label'].value_counts()\n",
    "\n",
    "plt.figure(figsize=(12,4))\n",
    "sns.barplot(cnt_pro.index, cnt_pro.values, alpha=0.8)\n",
    "plt.ylabel('Number of Occurrences', fontsize=12)\n",
    "plt.xlabel('Label', fontsize=12)\n",
    "plt.xticks(rotation=90)\n",
    "plt.show();"
   ]
  },
  {
   "cell_type": "code",
   "execution_count": 187,
   "metadata": {},
   "outputs": [],
   "source": [
    "train_processed_df = pd.DataFrame(train_processed_SJ)\n",
    "train_processed_df.columns = [\"SJ\"]\n",
    "\n",
    "test_processed_df = pd.DataFrame(test_processed_SJ)\n",
    "test_processed_df.columns = [\"SJ\"]\n",
    "\n",
    "val_processed_df = pd.DataFrame(val_processed_SJ)\n",
    "val_processed_df.columns = [\"SJ\"]"
   ]
  },
  {
   "cell_type": "code",
   "execution_count": 194,
   "metadata": {},
   "outputs": [],
   "source": [
    "# from bs4 import BeautifulSoup\n",
    "# def cleanText(text):\n",
    "#     text = BeautifulSoup(text, \"lxml\").text\n",
    "#     text = re.sub(r'\\|\\|\\|', r' ', text) \n",
    "#     text = re.sub(r'http\\S+', r'<URL>', text)\n",
    "#     text = text.lower()\n",
    "#     text = text.replace('x', '')\n",
    "#     return text"
   ]
  },
  {
   "cell_type": "code",
   "execution_count": 219,
   "metadata": {},
   "outputs": [],
   "source": [
    "# df_train['statement'] = df_train['statement'].apply(cleanText)\n",
    "df_train['statement'] = df_train['statement'].apply(preprocessing_pipeline)\n",
    "df_train['statement'] = df_train['statement'].apply(nlp)\n",
    "df_train['statement'] = df_train['statement'].apply(spacy_prepro)\n",
    "df_train['statement'] = df_train['statement'].apply(' '.join)\n",
    "\n",
    "# df_test['statement'] = df_test['statement'].apply(cleanText)\n",
    "df_test['statement'] = df_test['statement'].apply(preprocessing_pipeline)\n",
    "df_test['statement'] = df_test['statement'].apply(nlp)\n",
    "df_test['statement'] = df_test['statement'].apply(spacy_prepro)\n",
    "df_test['statement'] = df_test['statement'].apply(' '.join)\n",
    "\n",
    "# df_val['statement'] = df_val['statement'].apply(cleanText)\n",
    "df_val['statement'] = df_val['statement'].apply(preprocessing_pipeline)\n",
    "df_val['statement'] = df_val['statement'].apply(nlp)\n",
    "df_val['statement'] = df_val['statement'].apply(spacy_prepro)\n",
    "df_val['statement'] = df_val['statement'].apply(' '.join)"
   ]
  },
  {
   "cell_type": "code",
   "execution_count": 196,
   "metadata": {},
   "outputs": [],
   "source": [
    "def label_sentences(corpus, label_type):\n",
    "    \"\"\"\n",
    "    Gensim's Doc2Vec implementation requires each document/paragraph to have a label associated with it.\n",
    "    We do this by using the TaggedDocument method. The format will be \"TRAIN_i\" or \"TEST_i\" where \"i\" is\n",
    "    a dummy index of the complaint narrative.\n",
    "    \"\"\"\n",
    "    labeled = []\n",
    "    flag=0\n",
    "    for i in range(len(corpus)):\n",
    "        label = label_type + '_' + str(i)\n",
    "        flag+=1\n",
    "        labeled.append(doc2vec.TaggedDocument(corpus[i].split(), [label]))\n",
    "    return labeled"
   ]
  },
  {
   "cell_type": "code",
   "execution_count": 227,
   "metadata": {},
   "outputs": [],
   "source": [
    "# For S model\n",
    "X_train = label_sentences(df_train['statement'],'Train')\n",
    "# X_test = label_sentences(df_test['statement'],'Test')\n",
    "X_test = label_sentences(df_val['statement'],'Test') # Validation Set\n",
    "all_data = X_train + X_test\n",
    "\n",
    "# ## For SJ model\n",
    "# X_train = label_sentences(train_processed_df['SJ'],'Train')\n",
    "# X_test = label_sentences(test_processed_df['SJ'],'Test')\n",
    "# # X_test = label_sentences(val_processed_df['SJ'],'Test') # Validation Set\n",
    "# all_data = X_train + X_test"
   ]
  },
  {
   "cell_type": "markdown",
   "metadata": {},
   "source": [
    "# Distributed Bag of Words (DBOW) | Skip-Gram"
   ]
  },
  {
   "cell_type": "code",
   "execution_count": 228,
   "metadata": {},
   "outputs": [
    {
     "name": "stderr",
     "output_type": "stream",
     "text": [
      "100%|██████████| 11524/11524 [00:00<00:00, 2458678.43it/s]\n"
     ]
    }
   ],
   "source": [
    "model_dbow = Doc2Vec(dm=0, vector_size=300, negative=5, min_count=1, alpha=0.065, min_alpha=0.065)\n",
    "model_dbow.build_vocab([x for x in tqdm(all_data)])"
   ]
  },
  {
   "cell_type": "code",
   "execution_count": 229,
   "metadata": {},
   "outputs": [
    {
     "name": "stderr",
     "output_type": "stream",
     "text": [
      "100%|██████████| 11524/11524 [00:00<00:00, 1610903.49it/s]\n",
      "100%|██████████| 11524/11524 [00:00<00:00, 1135427.75it/s]\n",
      "100%|██████████| 11524/11524 [00:00<00:00, 1040047.32it/s]\n",
      "100%|██████████| 11524/11524 [00:00<00:00, 1124413.41it/s]\n",
      "100%|██████████| 11524/11524 [00:00<00:00, 1043415.06it/s]\n",
      "100%|██████████| 11524/11524 [00:00<00:00, 1447160.46it/s]\n",
      "100%|██████████| 11524/11524 [00:00<00:00, 1161819.08it/s]\n",
      "100%|██████████| 11524/11524 [00:00<00:00, 1064956.03it/s]\n",
      "100%|██████████| 11524/11524 [00:00<00:00, 1189203.08it/s]\n",
      "100%|██████████| 11524/11524 [00:00<00:00, 1083165.10it/s]\n",
      "100%|██████████| 11524/11524 [00:00<00:00, 1054846.13it/s]\n",
      "100%|██████████| 11524/11524 [00:00<00:00, 1066883.55it/s]\n",
      "100%|██████████| 11524/11524 [00:00<00:00, 1078693.10it/s]\n",
      "100%|██████████| 11524/11524 [00:00<00:00, 1103567.65it/s]\n",
      "100%|██████████| 11524/11524 [00:00<00:00, 1052824.21it/s]\n",
      "100%|██████████| 11524/11524 [00:00<00:00, 1085549.10it/s]\n",
      "100%|██████████| 11524/11524 [00:00<00:00, 1117601.78it/s]\n",
      "100%|██████████| 11524/11524 [00:00<00:00, 1008284.85it/s]\n",
      "100%|██████████| 11524/11524 [00:00<00:00, 1183727.85it/s]\n",
      "100%|██████████| 11524/11524 [00:00<00:00, 923307.72it/s]\n",
      "100%|██████████| 11524/11524 [00:00<00:00, 1031568.19it/s]\n",
      "100%|██████████| 11524/11524 [00:00<00:00, 1187450.17it/s]\n",
      "100%|██████████| 11524/11524 [00:00<00:00, 955674.70it/s]\n",
      "100%|██████████| 11524/11524 [00:00<00:00, 1013251.98it/s]\n",
      "100%|██████████| 11524/11524 [00:00<00:00, 1064065.15it/s]\n",
      "100%|██████████| 11524/11524 [00:00<00:00, 997815.06it/s]\n",
      "100%|██████████| 11524/11524 [00:00<00:00, 1141299.13it/s]\n",
      "100%|██████████| 11524/11524 [00:00<00:00, 1066412.78it/s]\n",
      "100%|██████████| 11524/11524 [00:00<00:00, 1198194.33it/s]\n",
      "100%|██████████| 11524/11524 [00:00<00:00, 1063948.04it/s]\n"
     ]
    },
    {
     "name": "stdout",
     "output_type": "stream",
     "text": [
      "CPU times: user 38.7 s, sys: 4.07 s, total: 42.8 s\n",
      "Wall time: 28.8 s\n"
     ]
    }
   ],
   "source": [
    "%%time\n",
    "flag=0\n",
    "for epoch in range(30):\n",
    "    model_dbow.train(utils.shuffle([x for x in tqdm(all_data)]), total_examples=len(all_data), epochs=1)\n",
    "    flag+=1\n",
    "    model_dbow.alpha -= 0.002\n",
    "    model_dbow.min_alpha = model_dbow.alpha\n",
    "    flag=0"
   ]
  },
  {
   "cell_type": "code",
   "execution_count": 223,
   "metadata": {},
   "outputs": [],
   "source": [
    "def get_vectors(model, corpus_size, vectors_size, vectors_type):\n",
    "    \"\"\"\n",
    "    Get vectors from trained doc2vec model\n",
    "    :param doc2vec_model: Trained Doc2Vec model\n",
    "    :param corpus_size: Size of the data\n",
    "    :param vectors_size: Size of the embedding vectors\n",
    "    :param vectors_type: Training or Testing vectors\n",
    "    :return: list of vectors\n",
    "    \"\"\"\n",
    "    vectors = np.zeros((corpus_size, vectors_size))\n",
    "    flag=0\n",
    "    for i in range(0, corpus_size):\n",
    "        flag+=1\n",
    "        prefix = vectors_type + '_' + str(i)\n",
    "        check=flag\n",
    "        vectors[i] = model.docvecs[prefix]\n",
    "    return vectors"
   ]
  },
  {
   "cell_type": "code",
   "execution_count": 230,
   "metadata": {},
   "outputs": [],
   "source": [
    "train_vectors_dbow = get_vectors(model_dbow, len(X_train), 300, 'Train')\n",
    "test_vectors_dbow = get_vectors(model_dbow, len(X_test), 300, 'Test')"
   ]
  },
  {
   "cell_type": "code",
   "execution_count": 233,
   "metadata": {},
   "outputs": [
    {
     "name": "stderr",
     "output_type": "stream",
     "text": [
      "/home/shreyash15097/.local/lib/python3.6/site-packages/sklearn/linear_model/logistic.py:947: ConvergenceWarning: lbfgs failed to converge. Increase the number of iterations.\n",
      "  \"of iterations.\", ConvergenceWarning)\n"
     ]
    }
   ],
   "source": [
    "logreg =  LogisticRegression(random_state=0,solver='lbfgs',multi_class='multinomial').fit(train_vectors_dbow, train_blabels_df['label'])"
   ]
  },
  {
   "cell_type": "code",
   "execution_count": 237,
   "metadata": {},
   "outputs": [
    {
     "name": "stdout",
     "output_type": "stream",
     "text": [
      "              precision    recall  f1-score   support\n",
      "\n",
      "       false       0.68      0.93      0.79       867\n",
      "        true       0.43      0.11      0.18       417\n",
      "\n",
      "    accuracy                           0.66      1284\n",
      "   macro avg       0.56      0.52      0.48      1284\n",
      "weighted avg       0.60      0.66      0.59      1284\n",
      "\n",
      "0.6635514018691588\n"
     ]
    }
   ],
   "source": [
    "predicted =logreg.predict(test_vectors_dbow)\n",
    "print(classification_report(val_blabels_df['label'], predicted))\n",
    "count=0\n",
    "for i in range(len(val_blabels_df['label'])):\n",
    "    if val_blabels_df['label'][i]==predicted[i]:\n",
    "        count+=1\n",
    "print(count/len(predicted))"
   ]
  },
  {
   "cell_type": "markdown",
   "metadata": {},
   "source": [
    "# Plot"
   ]
  },
  {
   "cell_type": "code",
   "execution_count": 245,
   "metadata": {},
   "outputs": [
    {
     "data": {
      "image/png": "[encoded data removed]",
      "text/plain": [
       "<Figure size 432x288 with 1 Axes>"
      ]
     },
     "metadata": {
      "needs_background": "light"
     },
     "output_type": "display_data"
    }
   ],
   "source": [
    "# libraries\n",
    "import numpy as np\n",
    "import matplotlib.pyplot as plt\n",
    " \n",
    "# set width of bar\n",
    "barWidth = 0.25\n",
    " \n",
    "# set height of bar\n",
    "bars1 = [25.93, 23.44, 44.04, 42.93]\n",
    "bars2 = [25.23, 24.76, 44.62, 44.54]\n",
    "# bars3 = [29, 3, 24, 25, 17]\n",
    " \n",
    "# Set position of bar on X axis\n",
    "r1 = np.arange(len(bars1))\n",
    "r2 = [x + barWidth for x in r1]\n",
    "# r3 = [x + barWidth for x in r2]\n",
    " \n",
    "# Make the plot\n",
    "plt.bar(r1, bars1, color='#87cefa', width=barWidth, edgecolor='white', label='test')\n",
    "plt.bar(r2, bars2, color='#ff8c00', width=barWidth, edgecolor='white', label='validation')\n",
    "# plt.bar(r3, bars3, color='#2d7f5e', width=barWidth, edgecolor='white', label='var3')\n",
    " \n",
    "# Add xticks on the middle of the group bars\n",
    "plt.xlabel('Multi-class Classification', fontweight='bold')\n",
    "plt.xticks([r + barWidth for r in range(len(bars1))], ['S', 'SJ', 'S+M', 'S+MJ'])\n",
    " \n",
    "# Create legend & Show graphic\n",
    "plt.legend()\n",
    "plt.show()"
   ]
  },
  {
   "cell_type": "code",
   "execution_count": 246,
   "metadata": {},
   "outputs": [],
   "source": [
    "# Binary"
   ]
  },
  {
   "cell_type": "code",
   "execution_count": 248,
   "metadata": {},
   "outputs": [
    {
     "data": {
      "image/png": "[encoded data removed]",
      "text/plain": [
       "<Figure size 432x288 with 1 Axes>"
      ]
     },
     "metadata": {
      "needs_background": "light"
     },
     "output_type": "display_data"
    }
   ],
   "source": [
    "# libraries\n",
    "import numpy as np\n",
    "import matplotlib.pyplot as plt\n",
    " \n",
    "# set width of bar\n",
    "barWidth = 0.25\n",
    " \n",
    "# set height of bar\n",
    "bars1 = [62.98, 62.35, 70.48, 70.24]\n",
    "bars2 = [67.60, 66.51, 74.22, 74.45]\n",
    "# bars3 = [29, 3, 24, 25, 17]\n",
    " \n",
    "# Set position of bar on X axis\n",
    "r1 = np.arange(len(bars1))\n",
    "r2 = [x + barWidth for x in r1]\n",
    "# r3 = [x + barWidth for x in r2]\n",
    " \n",
    "# Make the plot\n",
    "plt.bar(r1, bars1, color='#87cefa', width=barWidth, edgecolor='white', label='test')\n",
    "plt.bar(r2, bars2, color='#ff8c00', width=barWidth, edgecolor='white', label='validation')\n",
    "# plt.bar(r3, bars3, color='#2d7f5e', width=barWidth, edgecolor='white', label='var3')\n",
    " \n",
    "# Add xticks on the middle of the group bars\n",
    "plt.xlabel('Binary Classification', fontweight='bold')\n",
    "plt.xticks([r + barWidth for r in range(len(bars1))], ['S', 'SJ', 'S+M', 'S+MJ'])\n",
    " \n",
    "# Create legend & Show graphic\n",
    "plt.legend()\n",
    "plt.show()"
   ]
  },
  {
   "cell_type": "code",
   "execution_count": null,
   "metadata": {},
   "outputs": [],
   "source": [
    "# Doc2Vec train "
   ]
  },
  {
   "cell_type": "code",
   "execution_count": 302,
   "metadata": {},
   "outputs": [],
   "source": [
    "train_SJ_sent = []\n",
    "for i in range(len(senti_train_df)):\n",
    "    posval = senti_train_df['pos_sent'][i]\n",
    "    negval = senti_train_df['neg_sent'][i]\n",
    "    textval = train_processed_S[i]\n",
    "    for j in range(int(posval)):\n",
    "        textval+=' _pos_sent_'\n",
    "    for j in range(int(negval)):\n",
    "        textval+=' _neg_sent_'\n",
    "    train_SJ_sent.append(textval)"
   ]
  },
  {
   "cell_type": "code",
   "execution_count": 303,
   "metadata": {},
   "outputs": [],
   "source": [
    "train_SJ_sent_emo = []\n",
    "for i in range(len(train_SJ_sent)):\n",
    "    textval = train_SJ_sent[i]\n",
    "    e1=emolex_train_df['e1'][i]\n",
    "    e2=emolex_train_df['e2'][i]\n",
    "    e3=emolex_train_df['e3'][i]\n",
    "    e4=emolex_train_df['e4'][i]\n",
    "    e5=emolex_train_df['e5'][i]\n",
    "    e6=emolex_train_df['e6'][i]\n",
    "    e7=emolex_train_df['e7'][i]\n",
    "    e8=emolex_train_df['e8'][i]\n",
    "    e9=emolex_train_df['e9'][i]\n",
    "    e10=emolex_train_df['e10'][i]\n",
    "    for j in range(int(e1)):\n",
    "        textval+=' _e1_feat_'\n",
    "    for j in range(int(e2)):\n",
    "        textval+=' _e2_feat_'\n",
    "    for j in range(int(e3)):\n",
    "        textval+=' _e3_feat_'\n",
    "    for j in range(int(e4)):\n",
    "        textval+=' _e4_feat_'\n",
    "    for j in range(int(e5)):\n",
    "        textval+=' _e5_feat_'\n",
    "    for j in range(int(e6)):\n",
    "        textval+=' _e6_feat_'\n",
    "    for j in range(int(e7)):\n",
    "        textval+=' _e7_feat_'\n",
    "    for j in range(int(e8)):\n",
    "        textval+=' _e8_feat_'\n",
    "    for j in range(int(e9)):\n",
    "        textval+=' _e9_feat_'\n",
    "    for j in range(int(e10)):\n",
    "        textval+=' _e10_feat_'\n",
    "    train_SJ_sent_emo.append(textval)"
   ]
  },
  {
   "cell_type": "code",
   "execution_count": 304,
   "metadata": {},
   "outputs": [],
   "source": [
    "train_SJ_sent_emo_hist = []\n",
    "for i in range(len(train_SJ_sent_emo)):\n",
    "    textval = train_SJ_sent_emo[i]\n",
    "    h1 = df['barely_true_count'][i]\n",
    "    h2 = df['false_count'][i]\n",
    "    h3 = df['half_true_count'][i]\n",
    "    h4 = df['mostly_true_count'][i]\n",
    "    h5 = df['pof_count'][i]\n",
    "    for j in range(int(h1)):\n",
    "        textval+=' _h1_feat_'\n",
    "    for j in range(int(h2)):\n",
    "        textval+=' _h2_feat_'\n",
    "    for j in range(int(h3)):\n",
    "        textval+=' _h3_feat_'\n",
    "    for j in range(int(h4)):\n",
    "        textval+=' _h4_feat_'\n",
    "    for j in range(int(h5)):\n",
    "        textval+=' _h5_feat_'\n",
    "    train_SJ_sent_emo_hist.append(textval)"
   ]
  },
  {
   "cell_type": "code",
   "execution_count": 305,
   "metadata": {},
   "outputs": [],
   "source": [
    "# Doc2vec test"
   ]
  },
  {
   "cell_type": "code",
   "execution_count": 306,
   "metadata": {},
   "outputs": [],
   "source": [
    "test_SJ_sent = []\n",
    "for i in range(len(senti_test_df)):\n",
    "    posval = senti_test_df['pos_sent'][i]\n",
    "    negval = senti_test_df['neg_sent'][i]\n",
    "    textval = test_processed_S[i]\n",
    "    for j in range(int(posval)):\n",
    "        textval+=' _pos_sent_'\n",
    "    for j in range(int(negval)):\n",
    "        textval+=' _neg_sent_'\n",
    "    test_SJ_sent.append(textval)"
   ]
  },
  {
   "cell_type": "code",
   "execution_count": 307,
   "metadata": {},
   "outputs": [],
   "source": [
    "test_SJ_sent_emo = []\n",
    "for i in range(len(test_SJ_sent)):\n",
    "    textval = test_SJ_sent[i]\n",
    "    e1=emolex_test_df['e1'][i]\n",
    "    e2=emolex_test_df['e2'][i]\n",
    "    e3=emolex_test_df['e3'][i]\n",
    "    e4=emolex_test_df['e4'][i]\n",
    "    e5=emolex_test_df['e5'][i]\n",
    "    e6=emolex_test_df['e6'][i]\n",
    "    e7=emolex_test_df['e7'][i]\n",
    "    e8=emolex_test_df['e8'][i]\n",
    "    e9=emolex_test_df['e9'][i]\n",
    "    e10=emolex_test_df['e10'][i]\n",
    "    for j in range(int(e1)):\n",
    "        textval+=' _e1_feat_'\n",
    "    for j in range(int(e2)):\n",
    "        textval+=' _e2_feat_'\n",
    "    for j in range(int(e3)):\n",
    "        textval+=' _e3_feat_'\n",
    "    for j in range(int(e4)):\n",
    "        textval+=' _e4_feat_'\n",
    "    for j in range(int(e5)):\n",
    "        textval+=' _e5_feat_'\n",
    "    for j in range(int(e6)):\n",
    "        textval+=' _e6_feat_'\n",
    "    for j in range(int(e7)):\n",
    "        textval+=' _e7_feat_'\n",
    "    for j in range(int(e8)):\n",
    "        textval+=' _e8_feat_'\n",
    "    for j in range(int(e9)):\n",
    "        textval+=' _e9_feat_'\n",
    "    for j in range(int(e10)):\n",
    "        textval+=' _e10_feat_'\n",
    "    test_SJ_sent_emo.append(textval)"
   ]
  },
  {
   "cell_type": "code",
   "execution_count": 308,
   "metadata": {},
   "outputs": [],
   "source": [
    "test_SJ_sent_emo_hist = []\n",
    "for i in range(len(test_SJ_sent_emo)):\n",
    "    textval = test_SJ_sent_emo[i]\n",
    "    h1 = df_test['barely_true_count'][i]\n",
    "    h2 = df_test['false_count'][i]\n",
    "    h3 = df_test['half_true_count'][i]\n",
    "    h4 = df_test['mostly_true_count'][i]\n",
    "    h5 = df_test['pof_count'][i]\n",
    "    for j in range(int(h1)):\n",
    "        textval+=' _h1_feat_'\n",
    "    for j in range(int(h2)):\n",
    "        textval+=' _h2_feat_'\n",
    "    for j in range(int(h3)):\n",
    "        textval+=' _h3_feat_'\n",
    "    for j in range(int(h4)):\n",
    "        textval+=' _h4_feat_'\n",
    "    for j in range(int(h5)):\n",
    "        textval+=' _h5_feat_'\n",
    "    test_SJ_sent_emo_hist.append(textval)"
   ]
  },
  {
   "cell_type": "code",
   "execution_count": 309,
   "metadata": {},
   "outputs": [],
   "source": [
    "# Doc2vec val set"
   ]
  },
  {
   "cell_type": "code",
   "execution_count": 310,
   "metadata": {},
   "outputs": [],
   "source": [
    "val_SJ_sent = []\n",
    "for i in range(len(senti_val_df)):\n",
    "    posval = senti_val_df['pos_sent'][i]\n",
    "    negval = senti_val_df['neg_sent'][i]\n",
    "    textval = val_processed_S[i]\n",
    "    for j in range(int(posval)):\n",
    "        textval+=' _pos_sent_'\n",
    "    for j in range(int(negval)):\n",
    "        textval+=' _neg_sent_'\n",
    "    val_SJ_sent.append(textval)"
   ]
  },
  {
   "cell_type": "code",
   "execution_count": 311,
   "metadata": {},
   "outputs": [],
   "source": [
    "val_SJ_sent_emo = []\n",
    "for i in range(len(val_SJ_sent)):\n",
    "    textval = val_SJ_sent[i]\n",
    "    e1=emolex_val_df['e1'][i]\n",
    "    e2=emolex_val_df['e2'][i]\n",
    "    e3=emolex_val_df['e3'][i]\n",
    "    e4=emolex_val_df['e4'][i]\n",
    "    e5=emolex_val_df['e5'][i]\n",
    "    e6=emolex_val_df['e6'][i]\n",
    "    e7=emolex_val_df['e7'][i]\n",
    "    e8=emolex_val_df['e8'][i]\n",
    "    e9=emolex_val_df['e9'][i]\n",
    "    e10=emolex_val_df['e10'][i]\n",
    "    for j in range(int(e1)):\n",
    "        textval+=' _e1_feat_'\n",
    "    for j in range(int(e2)):\n",
    "        textval+=' _e2_feat_'\n",
    "    for j in range(int(e3)):\n",
    "        textval+=' _e3_feat_'\n",
    "    for j in range(int(e4)):\n",
    "        textval+=' _e4_feat_'\n",
    "    for j in range(int(e5)):\n",
    "        textval+=' _e5_feat_'\n",
    "    for j in range(int(e6)):\n",
    "        textval+=' _e6_feat_'\n",
    "    for j in range(int(e7)):\n",
    "        textval+=' _e7_feat_'\n",
    "    for j in range(int(e8)):\n",
    "        textval+=' _e8_feat_'\n",
    "    for j in range(int(e9)):\n",
    "        textval+=' _e9_feat_'\n",
    "    for j in range(int(e10)):\n",
    "        textval+=' _e10_feat_'\n",
    "    val_SJ_sent_emo.append(textval)"
   ]
  },
  {
   "cell_type": "code",
   "execution_count": 312,
   "metadata": {},
   "outputs": [],
   "source": [
    "val_SJ_sent_emo_hist = []\n",
    "for i in range(len(val_SJ_sent_emo)):\n",
    "    textval = val_SJ_sent_emo[i]\n",
    "    h1 = df_val['barely_true_count'][i]\n",
    "    h2 = df_val['false_count'][i]\n",
    "    h3 = df_val['half_true_count'][i]\n",
    "    h4 = df_val['mostly_true_count'][i]\n",
    "    h5 = df_val['pof_count'][i]\n",
    "    for j in range(int(h1)):\n",
    "        textval+=' _h1_feat_'\n",
    "    for j in range(int(h2)):\n",
    "        textval+=' _h2_feat_'\n",
    "    for j in range(int(h3)):\n",
    "        textval+=' _h3_feat_'\n",
    "    for j in range(int(h4)):\n",
    "        textval+=' _h4_feat_'\n",
    "    for j in range(int(h5)):\n",
    "        textval+=' _h5_feat_'\n",
    "    val_SJ_sent_emo_hist.append(textval)"
   ]
  },
  {
   "cell_type": "code",
   "execution_count": 313,
   "metadata": {},
   "outputs": [],
   "source": [
    "train_processed_df = pd.DataFrame(train_SJ_sent_emo_hist)\n",
    "train_processed_df.columns = [\"SJ\"]\n",
    "\n",
    "test_processed_df = pd.DataFrame(test_SJ_sent_emo_hist)\n",
    "test_processed_df.columns = [\"SJ\"]\n",
    "\n",
    "val_processed_df = pd.DataFrame(val_SJ_sent_emo_hist)\n",
    "val_processed_df.columns = [\"SJ\"]"
   ]
  },
  {
   "cell_type": "code",
   "execution_count": 322,
   "metadata": {},
   "outputs": [],
   "source": [
    "X_train = label_sentences(train_processed_df['SJ'],'Train')\n",
    "# X_test = label_sentences(test_processed_df['SJ'],'Test') # Test Set\n",
    "X_test = label_sentences(val_processed_df['SJ'],'Test') # Validation Set\n",
    "all_data = X_train + X_test"
   ]
  },
  {
   "cell_type": "code",
   "execution_count": 323,
   "metadata": {},
   "outputs": [
    {
     "name": "stderr",
     "output_type": "stream",
     "text": [
      "100%|██████████| 11524/11524 [00:00<00:00, 3335529.59it/s]\n"
     ]
    }
   ],
   "source": [
    "model_dbow = Doc2Vec(dm=0, vector_size=300, negative=5, min_count=1, alpha=0.065, min_alpha=0.065)\n",
    "model_dbow.build_vocab([x for x in tqdm(all_data)])"
   ]
  },
  {
   "cell_type": "code",
   "execution_count": 324,
   "metadata": {},
   "outputs": [
    {
     "name": "stderr",
     "output_type": "stream",
     "text": [
      "100%|██████████| 11524/11524 [00:00<00:00, 2474918.55it/s]\n",
      "100%|██████████| 11524/11524 [00:00<00:00, 1434320.29it/s]\n",
      "100%|██████████| 11524/11524 [00:00<00:00, 1118921.23it/s]\n",
      "100%|██████████| 11524/11524 [00:00<00:00, 1344361.11it/s]\n",
      "100%|██████████| 11524/11524 [00:00<00:00, 1069338.27it/s]\n",
      "100%|██████████| 11524/11524 [00:00<00:00, 1138556.98it/s]\n",
      "100%|██████████| 11524/11524 [00:00<00:00, 1111204.18it/s]\n",
      "100%|██████████| 11524/11524 [00:00<00:00, 1378365.97it/s]\n",
      "100%|██████████| 11524/11524 [00:00<00:00, 1339109.55it/s]\n",
      "100%|██████████| 11524/11524 [00:00<00:00, 1125749.01it/s]\n",
      "100%|██████████| 11524/11524 [00:00<00:00, 1293110.02it/s]\n",
      "100%|██████████| 11524/11524 [00:00<00:00, 1432959.57it/s]\n",
      "100%|██████████| 11524/11524 [00:00<00:00, 1106599.49it/s]\n",
      "100%|██████████| 11524/11524 [00:00<00:00, 1370005.37it/s]\n",
      "100%|██████████| 11524/11524 [00:00<00:00, 1210194.27it/s]\n",
      "100%|██████████| 11524/11524 [00:00<00:00, 1045581.88it/s]\n",
      "100%|██████████| 11524/11524 [00:00<00:00, 1161372.43it/s]\n",
      "100%|██████████| 11524/11524 [00:00<00:00, 1290107.28it/s]\n",
      "100%|██████████| 11524/11524 [00:00<00:00, 1193490.19it/s]\n",
      "100%|██████████| 11524/11524 [00:00<00:00, 1329898.45it/s]\n",
      "100%|██████████| 11524/11524 [00:00<00:00, 1083577.90it/s]\n",
      "100%|██████████| 11524/11524 [00:00<00:00, 1269305.65it/s]\n",
      "100%|██████████| 11524/11524 [00:00<00:00, 1286707.29it/s]\n",
      "100%|██████████| 11524/11524 [00:00<00:00, 1309611.99it/s]\n",
      "100%|██████████| 11524/11524 [00:00<00:00, 1463770.31it/s]\n",
      "100%|██████████| 11524/11524 [00:00<00:00, 1131864.91it/s]\n",
      "100%|██████████| 11524/11524 [00:00<00:00, 1120036.13it/s]\n",
      "100%|██████████| 11524/11524 [00:00<00:00, 1176753.73it/s]\n",
      "100%|██████████| 11524/11524 [00:00<00:00, 1195793.26it/s]\n",
      "100%|██████████| 11524/11524 [00:00<00:00, 1201918.67it/s]\n"
     ]
    },
    {
     "name": "stdout",
     "output_type": "stream",
     "text": [
      "CPU times: user 54.4 s, sys: 4.39 s, total: 58.8 s\n",
      "Wall time: 36.1 s\n"
     ]
    }
   ],
   "source": [
    "%%time\n",
    "flag=0\n",
    "for epoch in range(30):\n",
    "    model_dbow.train(utils.shuffle([x for x in tqdm(all_data)]), total_examples=len(all_data), epochs=1)\n",
    "    flag+=1\n",
    "    model_dbow.alpha -= 0.002\n",
    "    model_dbow.min_alpha = model_dbow.alpha\n",
    "    flag=0"
   ]
  },
  {
   "cell_type": "code",
   "execution_count": 325,
   "metadata": {},
   "outputs": [],
   "source": [
    "train_vectors_dbow = get_vectors(model_dbow, len(X_train), 300, 'Train')\n",
    "test_vectors_dbow = get_vectors(model_dbow, len(X_test), 300, 'Test')"
   ]
  },
  {
   "cell_type": "code",
   "execution_count": 329,
   "metadata": {},
   "outputs": [
    {
     "name": "stderr",
     "output_type": "stream",
     "text": [
      "/home/shreyash15097/.local/lib/python3.6/site-packages/sklearn/linear_model/logistic.py:947: ConvergenceWarning: lbfgs failed to converge. Increase the number of iterations.\n",
      "  \"of iterations.\", ConvergenceWarning)\n"
     ]
    }
   ],
   "source": [
    "logreg =  LogisticRegression(random_state=0,solver='lbfgs',multi_class='multinomial').fit(train_vectors_dbow, train_blabels_df['label'])"
   ]
  },
  {
   "cell_type": "code",
   "execution_count": 330,
   "metadata": {},
   "outputs": [
    {
     "name": "stdout",
     "output_type": "stream",
     "text": [
      "              precision    recall  f1-score   support\n",
      "\n",
      "       false       0.70      0.92      0.79       867\n",
      "        true       0.51      0.17      0.25       417\n",
      "\n",
      "    accuracy                           0.68      1284\n",
      "   macro avg       0.60      0.55      0.52      1284\n",
      "weighted avg       0.64      0.68      0.62      1284\n",
      "\n",
      "0.677570093457944\n"
     ]
    }
   ],
   "source": [
    "predicted =logreg.predict(test_vectors_dbow)\n",
    "print(classification_report(val_blabels_df['label'], predicted))\n",
    "count=0\n",
    "for i in range(len(val_blabels_df['label'])):\n",
    "    if val_blabels_df['label'][i]==predicted[i]:\n",
    "        count+=1\n",
    "print(count/len(predicted))"
   ]
  },
  {
   "cell_type": "code",
   "execution_count": null,
   "metadata": {},
   "outputs": [],
   "source": []
  }
 ],
 "metadata": {
  "kernelspec": {
   "display_name": "Python 3",
   "language": "python",
   "name": "python3"
  },
  "language_info": {
   "codemirror_mode": {
    "name": "ipython",
    "version": 3
   },
   "file_extension": ".py",
   "mimetype": "text/x-python",
   "name": "python",
   "nbconvert_exporter": "python",
   "pygments_lexer": "ipython3",
   "version": "3.6.7"
  }
 },
 "nbformat": 4,
 "nbformat_minor": 2
}
